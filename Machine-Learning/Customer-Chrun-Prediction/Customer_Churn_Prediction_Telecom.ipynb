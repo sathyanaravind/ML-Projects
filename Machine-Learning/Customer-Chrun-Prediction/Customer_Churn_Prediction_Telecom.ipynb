{
 "cells": [
  {
   "cell_type": "markdown",
   "metadata": {},
   "source": [
    "### Import Dependecies"
   ]
  },
  {
   "cell_type": "code",
   "execution_count": 2,
   "metadata": {},
   "outputs": [
    {
     "name": "stderr",
     "output_type": "stream",
     "text": [
      "C:\\Users\\Aravind\\Anaconda3\\lib\\site-packages\\statsmodels\\tools\\_testing.py:19: FutureWarning: pandas.util.testing is deprecated. Use the functions in the public API at pandas.testing instead.\n",
      "  import pandas.util.testing as tm\n"
     ]
    }
   ],
   "source": [
    "import numpy as np\n",
    "import pandas as pd\n",
    "import matplotlib.pyplot as plt\n",
    "%matplotlib inline\n",
    "import seaborn as sn\n",
    "\n",
    "import tensorflow as tf\n",
    "from tensorflow import keras\n"
   ]
  },
  {
   "cell_type": "markdown",
   "metadata": {},
   "source": [
    "#### Load Data"
   ]
  },
  {
   "cell_type": "code",
   "execution_count": 3,
   "metadata": {
    "scrolled": true
   },
   "outputs": [
    {
     "data": {
      "text/html": [
       "<div>\n",
       "<style scoped>\n",
       "    .dataframe tbody tr th:only-of-type {\n",
       "        vertical-align: middle;\n",
       "    }\n",
       "\n",
       "    .dataframe tbody tr th {\n",
       "        vertical-align: top;\n",
       "    }\n",
       "\n",
       "    .dataframe thead th {\n",
       "        text-align: right;\n",
       "    }\n",
       "</style>\n",
       "<table border=\"1\" class=\"dataframe\">\n",
       "  <thead>\n",
       "    <tr style=\"text-align: right;\">\n",
       "      <th></th>\n",
       "      <th>customerID</th>\n",
       "      <th>gender</th>\n",
       "      <th>SeniorCitizen</th>\n",
       "      <th>Partner</th>\n",
       "      <th>Dependents</th>\n",
       "      <th>tenure</th>\n",
       "      <th>PhoneService</th>\n",
       "      <th>MultipleLines</th>\n",
       "      <th>InternetService</th>\n",
       "      <th>OnlineSecurity</th>\n",
       "      <th>...</th>\n",
       "      <th>DeviceProtection</th>\n",
       "      <th>TechSupport</th>\n",
       "      <th>StreamingTV</th>\n",
       "      <th>StreamingMovies</th>\n",
       "      <th>Contract</th>\n",
       "      <th>PaperlessBilling</th>\n",
       "      <th>PaymentMethod</th>\n",
       "      <th>MonthlyCharges</th>\n",
       "      <th>TotalCharges</th>\n",
       "      <th>Churn</th>\n",
       "    </tr>\n",
       "  </thead>\n",
       "  <tbody>\n",
       "    <tr>\n",
       "      <th>0</th>\n",
       "      <td>7590-VHVEG</td>\n",
       "      <td>Female</td>\n",
       "      <td>0</td>\n",
       "      <td>Yes</td>\n",
       "      <td>No</td>\n",
       "      <td>1</td>\n",
       "      <td>No</td>\n",
       "      <td>No phone service</td>\n",
       "      <td>DSL</td>\n",
       "      <td>No</td>\n",
       "      <td>...</td>\n",
       "      <td>No</td>\n",
       "      <td>No</td>\n",
       "      <td>No</td>\n",
       "      <td>No</td>\n",
       "      <td>Month-to-month</td>\n",
       "      <td>Yes</td>\n",
       "      <td>Electronic check</td>\n",
       "      <td>29.85</td>\n",
       "      <td>29.85</td>\n",
       "      <td>No</td>\n",
       "    </tr>\n",
       "    <tr>\n",
       "      <th>1</th>\n",
       "      <td>5575-GNVDE</td>\n",
       "      <td>Male</td>\n",
       "      <td>0</td>\n",
       "      <td>No</td>\n",
       "      <td>No</td>\n",
       "      <td>34</td>\n",
       "      <td>Yes</td>\n",
       "      <td>No</td>\n",
       "      <td>DSL</td>\n",
       "      <td>Yes</td>\n",
       "      <td>...</td>\n",
       "      <td>Yes</td>\n",
       "      <td>No</td>\n",
       "      <td>No</td>\n",
       "      <td>No</td>\n",
       "      <td>One year</td>\n",
       "      <td>No</td>\n",
       "      <td>Mailed check</td>\n",
       "      <td>56.95</td>\n",
       "      <td>1889.5</td>\n",
       "      <td>No</td>\n",
       "    </tr>\n",
       "    <tr>\n",
       "      <th>2</th>\n",
       "      <td>3668-QPYBK</td>\n",
       "      <td>Male</td>\n",
       "      <td>0</td>\n",
       "      <td>No</td>\n",
       "      <td>No</td>\n",
       "      <td>2</td>\n",
       "      <td>Yes</td>\n",
       "      <td>No</td>\n",
       "      <td>DSL</td>\n",
       "      <td>Yes</td>\n",
       "      <td>...</td>\n",
       "      <td>No</td>\n",
       "      <td>No</td>\n",
       "      <td>No</td>\n",
       "      <td>No</td>\n",
       "      <td>Month-to-month</td>\n",
       "      <td>Yes</td>\n",
       "      <td>Mailed check</td>\n",
       "      <td>53.85</td>\n",
       "      <td>108.15</td>\n",
       "      <td>Yes</td>\n",
       "    </tr>\n",
       "    <tr>\n",
       "      <th>3</th>\n",
       "      <td>7795-CFOCW</td>\n",
       "      <td>Male</td>\n",
       "      <td>0</td>\n",
       "      <td>No</td>\n",
       "      <td>No</td>\n",
       "      <td>45</td>\n",
       "      <td>No</td>\n",
       "      <td>No phone service</td>\n",
       "      <td>DSL</td>\n",
       "      <td>Yes</td>\n",
       "      <td>...</td>\n",
       "      <td>Yes</td>\n",
       "      <td>Yes</td>\n",
       "      <td>No</td>\n",
       "      <td>No</td>\n",
       "      <td>One year</td>\n",
       "      <td>No</td>\n",
       "      <td>Bank transfer (automatic)</td>\n",
       "      <td>42.30</td>\n",
       "      <td>1840.75</td>\n",
       "      <td>No</td>\n",
       "    </tr>\n",
       "    <tr>\n",
       "      <th>4</th>\n",
       "      <td>9237-HQITU</td>\n",
       "      <td>Female</td>\n",
       "      <td>0</td>\n",
       "      <td>No</td>\n",
       "      <td>No</td>\n",
       "      <td>2</td>\n",
       "      <td>Yes</td>\n",
       "      <td>No</td>\n",
       "      <td>Fiber optic</td>\n",
       "      <td>No</td>\n",
       "      <td>...</td>\n",
       "      <td>No</td>\n",
       "      <td>No</td>\n",
       "      <td>No</td>\n",
       "      <td>No</td>\n",
       "      <td>Month-to-month</td>\n",
       "      <td>Yes</td>\n",
       "      <td>Electronic check</td>\n",
       "      <td>70.70</td>\n",
       "      <td>151.65</td>\n",
       "      <td>Yes</td>\n",
       "    </tr>\n",
       "  </tbody>\n",
       "</table>\n",
       "<p>5 rows × 21 columns</p>\n",
       "</div>"
      ],
      "text/plain": [
       "   customerID  gender  SeniorCitizen Partner Dependents  tenure PhoneService  \\\n",
       "0  7590-VHVEG  Female              0     Yes         No       1           No   \n",
       "1  5575-GNVDE    Male              0      No         No      34          Yes   \n",
       "2  3668-QPYBK    Male              0      No         No       2          Yes   \n",
       "3  7795-CFOCW    Male              0      No         No      45           No   \n",
       "4  9237-HQITU  Female              0      No         No       2          Yes   \n",
       "\n",
       "      MultipleLines InternetService OnlineSecurity  ... DeviceProtection  \\\n",
       "0  No phone service             DSL             No  ...               No   \n",
       "1                No             DSL            Yes  ...              Yes   \n",
       "2                No             DSL            Yes  ...               No   \n",
       "3  No phone service             DSL            Yes  ...              Yes   \n",
       "4                No     Fiber optic             No  ...               No   \n",
       "\n",
       "  TechSupport StreamingTV StreamingMovies        Contract PaperlessBilling  \\\n",
       "0          No          No              No  Month-to-month              Yes   \n",
       "1          No          No              No        One year               No   \n",
       "2          No          No              No  Month-to-month              Yes   \n",
       "3         Yes          No              No        One year               No   \n",
       "4          No          No              No  Month-to-month              Yes   \n",
       "\n",
       "               PaymentMethod MonthlyCharges  TotalCharges Churn  \n",
       "0           Electronic check          29.85         29.85    No  \n",
       "1               Mailed check          56.95        1889.5    No  \n",
       "2               Mailed check          53.85        108.15   Yes  \n",
       "3  Bank transfer (automatic)          42.30       1840.75    No  \n",
       "4           Electronic check          70.70        151.65   Yes  \n",
       "\n",
       "[5 rows x 21 columns]"
      ]
     },
     "execution_count": 3,
     "metadata": {},
     "output_type": "execute_result"
    }
   ],
   "source": [
    "df = pd.read_csv(\"WA_Fn-UseC_-Telco-Customer-Churn.csv\")\n",
    "df.head()"
   ]
  },
  {
   "cell_type": "code",
   "execution_count": 4,
   "metadata": {},
   "outputs": [
    {
     "data": {
      "text/plain": [
       "(7043, 21)"
      ]
     },
     "execution_count": 4,
     "metadata": {},
     "output_type": "execute_result"
    }
   ],
   "source": [
    "df.shape"
   ]
  },
  {
   "cell_type": "markdown",
   "metadata": {},
   "source": [
    "### EDA"
   ]
  },
  {
   "cell_type": "code",
   "execution_count": 5,
   "metadata": {
    "scrolled": true
   },
   "outputs": [
    {
     "data": {
      "text/plain": [
       "No     5174\n",
       "Yes    1869\n",
       "Name: Churn, dtype: int64"
      ]
     },
     "execution_count": 5,
     "metadata": {},
     "output_type": "execute_result"
    }
   ],
   "source": [
    "df3=df['Churn'].value_counts()\n",
    "df3"
   ]
  },
  {
   "cell_type": "code",
   "execution_count": 6,
   "metadata": {},
   "outputs": [
    {
     "data": {
      "text/plain": [
       "No     0.73463\n",
       "Yes    0.26537\n",
       "Name: Churn, dtype: float64"
      ]
     },
     "execution_count": 6,
     "metadata": {},
     "output_type": "execute_result"
    }
   ],
   "source": [
    "df3/sum(df3)"
   ]
  },
  {
   "cell_type": "code",
   "execution_count": 7,
   "metadata": {},
   "outputs": [
    {
     "data": {
      "text/plain": [
       "([<matplotlib.patches.Wedge at 0x281d9ab7288>,\n",
       "  <matplotlib.patches.Wedge at 0x281d9ab7ac8>],\n",
       " [Text(-0.7393678277834757, 0.8144539368428056, 'No'),\n",
       "  Text(0.7393677515287918, -0.8144540060674139, 'Yes')])"
      ]
     },
     "execution_count": 7,
     "metadata": {},
     "output_type": "execute_result"
    },
    {
     "data": {
      "image/png": "[encoded data removed]",
      "text/plain": [
       "<Figure size 432x288 with 1 Axes>"
      ]
     },
     "metadata": {},
     "output_type": "display_data"
    }
   ],
   "source": [
    "plt.pie(df['Churn'].value_counts(),labels=['No','Yes'])"
   ]
  },
  {
   "cell_type": "code",
   "execution_count": 8,
   "metadata": {},
   "outputs": [
    {
     "data": {
      "text/plain": [
       "<bound method NDFrame.describe of       customerID  gender  SeniorCitizen Partner Dependents  tenure  \\\n",
       "0     7590-VHVEG  Female              0     Yes         No       1   \n",
       "1     5575-GNVDE    Male              0      No         No      34   \n",
       "2     3668-QPYBK    Male              0      No         No       2   \n",
       "3     7795-CFOCW    Male              0      No         No      45   \n",
       "4     9237-HQITU  Female              0      No         No       2   \n",
       "...          ...     ...            ...     ...        ...     ...   \n",
       "7038  6840-RESVB    Male              0     Yes        Yes      24   \n",
       "7039  2234-XADUH  Female              0     Yes        Yes      72   \n",
       "7040  4801-JZAZL  Female              0     Yes        Yes      11   \n",
       "7041  8361-LTMKD    Male              1     Yes         No       4   \n",
       "7042  3186-AJIEK    Male              0      No         No      66   \n",
       "\n",
       "     PhoneService     MultipleLines InternetService OnlineSecurity  ...  \\\n",
       "0              No  No phone service             DSL             No  ...   \n",
       "1             Yes                No             DSL            Yes  ...   \n",
       "2             Yes                No             DSL            Yes  ...   \n",
       "3              No  No phone service             DSL            Yes  ...   \n",
       "4             Yes                No     Fiber optic             No  ...   \n",
       "...           ...               ...             ...            ...  ...   \n",
       "7038          Yes               Yes             DSL            Yes  ...   \n",
       "7039          Yes               Yes     Fiber optic             No  ...   \n",
       "7040           No  No phone service             DSL            Yes  ...   \n",
       "7041          Yes               Yes     Fiber optic             No  ...   \n",
       "7042          Yes                No     Fiber optic            Yes  ...   \n",
       "\n",
       "     DeviceProtection TechSupport StreamingTV StreamingMovies        Contract  \\\n",
       "0                  No          No          No              No  Month-to-month   \n",
       "1                 Yes          No          No              No        One year   \n",
       "2                  No          No          No              No  Month-to-month   \n",
       "3                 Yes         Yes          No              No        One year   \n",
       "4                  No          No          No              No  Month-to-month   \n",
       "...               ...         ...         ...             ...             ...   \n",
       "7038              Yes         Yes         Yes             Yes        One year   \n",
       "7039              Yes          No         Yes             Yes        One year   \n",
       "7040               No          No          No              No  Month-to-month   \n",
       "7041               No          No          No              No  Month-to-month   \n",
       "7042              Yes         Yes         Yes             Yes        Two year   \n",
       "\n",
       "     PaperlessBilling              PaymentMethod MonthlyCharges  TotalCharges  \\\n",
       "0                 Yes           Electronic check          29.85         29.85   \n",
       "1                  No               Mailed check          56.95        1889.5   \n",
       "2                 Yes               Mailed check          53.85        108.15   \n",
       "3                  No  Bank transfer (automatic)          42.30       1840.75   \n",
       "4                 Yes           Electronic check          70.70        151.65   \n",
       "...               ...                        ...            ...           ...   \n",
       "7038              Yes               Mailed check          84.80        1990.5   \n",
       "7039              Yes    Credit card (automatic)         103.20        7362.9   \n",
       "7040              Yes           Electronic check          29.60        346.45   \n",
       "7041              Yes               Mailed check          74.40         306.6   \n",
       "7042              Yes  Bank transfer (automatic)         105.65        6844.5   \n",
       "\n",
       "     Churn  \n",
       "0       No  \n",
       "1       No  \n",
       "2      Yes  \n",
       "3       No  \n",
       "4      Yes  \n",
       "...    ...  \n",
       "7038    No  \n",
       "7039    No  \n",
       "7040    No  \n",
       "7041   Yes  \n",
       "7042    No  \n",
       "\n",
       "[7043 rows x 21 columns]>"
      ]
     },
     "execution_count": 8,
     "metadata": {},
     "output_type": "execute_result"
    }
   ],
   "source": [
    "df.describe"
   ]
  },
  {
   "cell_type": "code",
   "execution_count": 9,
   "metadata": {},
   "outputs": [
    {
     "data": {
      "text/plain": [
       "Index(['customerID', 'gender', 'SeniorCitizen', 'Partner', 'Dependents',\n",
       "       'tenure', 'PhoneService', 'MultipleLines', 'InternetService',\n",
       "       'OnlineSecurity', 'OnlineBackup', 'DeviceProtection', 'TechSupport',\n",
       "       'StreamingTV', 'StreamingMovies', 'Contract', 'PaperlessBilling',\n",
       "       'PaymentMethod', 'MonthlyCharges', 'TotalCharges', 'Churn'],\n",
       "      dtype='object')"
      ]
     },
     "execution_count": 9,
     "metadata": {},
     "output_type": "execute_result"
    }
   ],
   "source": [
    "df.columns"
   ]
  },
  {
   "cell_type": "code",
   "execution_count": 10,
   "metadata": {},
   "outputs": [],
   "source": [
    "df.drop('customerID',axis='columns',inplace=True)"
   ]
  },
  {
   "cell_type": "code",
   "execution_count": 11,
   "metadata": {
    "scrolled": false
   },
   "outputs": [
    {
     "data": {
      "text/html": [
       "<div>\n",
       "<style scoped>\n",
       "    .dataframe tbody tr th:only-of-type {\n",
       "        vertical-align: middle;\n",
       "    }\n",
       "\n",
       "    .dataframe tbody tr th {\n",
       "        vertical-align: top;\n",
       "    }\n",
       "\n",
       "    .dataframe thead th {\n",
       "        text-align: right;\n",
       "    }\n",
       "</style>\n",
       "<table border=\"1\" class=\"dataframe\">\n",
       "  <thead>\n",
       "    <tr style=\"text-align: right;\">\n",
       "      <th></th>\n",
       "      <th>gender</th>\n",
       "      <th>SeniorCitizen</th>\n",
       "      <th>Partner</th>\n",
       "      <th>Dependents</th>\n",
       "      <th>tenure</th>\n",
       "      <th>PhoneService</th>\n",
       "      <th>MultipleLines</th>\n",
       "      <th>InternetService</th>\n",
       "      <th>OnlineSecurity</th>\n",
       "      <th>OnlineBackup</th>\n",
       "      <th>DeviceProtection</th>\n",
       "      <th>TechSupport</th>\n",
       "      <th>StreamingTV</th>\n",
       "      <th>StreamingMovies</th>\n",
       "      <th>Contract</th>\n",
       "      <th>PaperlessBilling</th>\n",
       "      <th>PaymentMethod</th>\n",
       "      <th>MonthlyCharges</th>\n",
       "      <th>TotalCharges</th>\n",
       "      <th>Churn</th>\n",
       "    </tr>\n",
       "  </thead>\n",
       "  <tbody>\n",
       "    <tr>\n",
       "      <th>0</th>\n",
       "      <td>Female</td>\n",
       "      <td>0</td>\n",
       "      <td>Yes</td>\n",
       "      <td>No</td>\n",
       "      <td>1</td>\n",
       "      <td>No</td>\n",
       "      <td>No phone service</td>\n",
       "      <td>DSL</td>\n",
       "      <td>No</td>\n",
       "      <td>Yes</td>\n",
       "      <td>No</td>\n",
       "      <td>No</td>\n",
       "      <td>No</td>\n",
       "      <td>No</td>\n",
       "      <td>Month-to-month</td>\n",
       "      <td>Yes</td>\n",
       "      <td>Electronic check</td>\n",
       "      <td>29.85</td>\n",
       "      <td>29.85</td>\n",
       "      <td>No</td>\n",
       "    </tr>\n",
       "    <tr>\n",
       "      <th>1</th>\n",
       "      <td>Male</td>\n",
       "      <td>0</td>\n",
       "      <td>No</td>\n",
       "      <td>No</td>\n",
       "      <td>34</td>\n",
       "      <td>Yes</td>\n",
       "      <td>No</td>\n",
       "      <td>DSL</td>\n",
       "      <td>Yes</td>\n",
       "      <td>No</td>\n",
       "      <td>Yes</td>\n",
       "      <td>No</td>\n",
       "      <td>No</td>\n",
       "      <td>No</td>\n",
       "      <td>One year</td>\n",
       "      <td>No</td>\n",
       "      <td>Mailed check</td>\n",
       "      <td>56.95</td>\n",
       "      <td>1889.5</td>\n",
       "      <td>No</td>\n",
       "    </tr>\n",
       "    <tr>\n",
       "      <th>2</th>\n",
       "      <td>Male</td>\n",
       "      <td>0</td>\n",
       "      <td>No</td>\n",
       "      <td>No</td>\n",
       "      <td>2</td>\n",
       "      <td>Yes</td>\n",
       "      <td>No</td>\n",
       "      <td>DSL</td>\n",
       "      <td>Yes</td>\n",
       "      <td>Yes</td>\n",
       "      <td>No</td>\n",
       "      <td>No</td>\n",
       "      <td>No</td>\n",
       "      <td>No</td>\n",
       "      <td>Month-to-month</td>\n",
       "      <td>Yes</td>\n",
       "      <td>Mailed check</td>\n",
       "      <td>53.85</td>\n",
       "      <td>108.15</td>\n",
       "      <td>Yes</td>\n",
       "    </tr>\n",
       "    <tr>\n",
       "      <th>3</th>\n",
       "      <td>Male</td>\n",
       "      <td>0</td>\n",
       "      <td>No</td>\n",
       "      <td>No</td>\n",
       "      <td>45</td>\n",
       "      <td>No</td>\n",
       "      <td>No phone service</td>\n",
       "      <td>DSL</td>\n",
       "      <td>Yes</td>\n",
       "      <td>No</td>\n",
       "      <td>Yes</td>\n",
       "      <td>Yes</td>\n",
       "      <td>No</td>\n",
       "      <td>No</td>\n",
       "      <td>One year</td>\n",
       "      <td>No</td>\n",
       "      <td>Bank transfer (automatic)</td>\n",
       "      <td>42.30</td>\n",
       "      <td>1840.75</td>\n",
       "      <td>No</td>\n",
       "    </tr>\n",
       "    <tr>\n",
       "      <th>4</th>\n",
       "      <td>Female</td>\n",
       "      <td>0</td>\n",
       "      <td>No</td>\n",
       "      <td>No</td>\n",
       "      <td>2</td>\n",
       "      <td>Yes</td>\n",
       "      <td>No</td>\n",
       "      <td>Fiber optic</td>\n",
       "      <td>No</td>\n",
       "      <td>No</td>\n",
       "      <td>No</td>\n",
       "      <td>No</td>\n",
       "      <td>No</td>\n",
       "      <td>No</td>\n",
       "      <td>Month-to-month</td>\n",
       "      <td>Yes</td>\n",
       "      <td>Electronic check</td>\n",
       "      <td>70.70</td>\n",
       "      <td>151.65</td>\n",
       "      <td>Yes</td>\n",
       "    </tr>\n",
       "  </tbody>\n",
       "</table>\n",
       "</div>"
      ],
      "text/plain": [
       "   gender  SeniorCitizen Partner Dependents  tenure PhoneService  \\\n",
       "0  Female              0     Yes         No       1           No   \n",
       "1    Male              0      No         No      34          Yes   \n",
       "2    Male              0      No         No       2          Yes   \n",
       "3    Male              0      No         No      45           No   \n",
       "4  Female              0      No         No       2          Yes   \n",
       "\n",
       "      MultipleLines InternetService OnlineSecurity OnlineBackup  \\\n",
       "0  No phone service             DSL             No          Yes   \n",
       "1                No             DSL            Yes           No   \n",
       "2                No             DSL            Yes          Yes   \n",
       "3  No phone service             DSL            Yes           No   \n",
       "4                No     Fiber optic             No           No   \n",
       "\n",
       "  DeviceProtection TechSupport StreamingTV StreamingMovies        Contract  \\\n",
       "0               No          No          No              No  Month-to-month   \n",
       "1              Yes          No          No              No        One year   \n",
       "2               No          No          No              No  Month-to-month   \n",
       "3              Yes         Yes          No              No        One year   \n",
       "4               No          No          No              No  Month-to-month   \n",
       "\n",
       "  PaperlessBilling              PaymentMethod  MonthlyCharges TotalCharges  \\\n",
       "0              Yes           Electronic check           29.85        29.85   \n",
       "1               No               Mailed check           56.95       1889.5   \n",
       "2              Yes               Mailed check           53.85       108.15   \n",
       "3               No  Bank transfer (automatic)           42.30      1840.75   \n",
       "4              Yes           Electronic check           70.70       151.65   \n",
       "\n",
       "  Churn  \n",
       "0    No  \n",
       "1    No  \n",
       "2   Yes  \n",
       "3    No  \n",
       "4   Yes  "
      ]
     },
     "execution_count": 11,
     "metadata": {},
     "output_type": "execute_result"
    }
   ],
   "source": [
    "df.head()"
   ]
  },
  {
   "cell_type": "code",
   "execution_count": 12,
   "metadata": {
    "scrolled": true
   },
   "outputs": [
    {
     "data": {
      "text/plain": [
       "gender               object\n",
       "SeniorCitizen         int64\n",
       "Partner              object\n",
       "Dependents           object\n",
       "tenure                int64\n",
       "PhoneService         object\n",
       "MultipleLines        object\n",
       "InternetService      object\n",
       "OnlineSecurity       object\n",
       "OnlineBackup         object\n",
       "DeviceProtection     object\n",
       "TechSupport          object\n",
       "StreamingTV          object\n",
       "StreamingMovies      object\n",
       "Contract             object\n",
       "PaperlessBilling     object\n",
       "PaymentMethod        object\n",
       "MonthlyCharges      float64\n",
       "TotalCharges         object\n",
       "Churn                object\n",
       "dtype: object"
      ]
     },
     "execution_count": 12,
     "metadata": {},
     "output_type": "execute_result"
    }
   ],
   "source": [
    "df.dtypes\n"
   ]
  },
  {
   "cell_type": "code",
   "execution_count": 13,
   "metadata": {},
   "outputs": [],
   "source": [
    "#Converting TotalCharges to float64 "
   ]
  },
  {
   "cell_type": "code",
   "execution_count": 14,
   "metadata": {
    "scrolled": false
   },
   "outputs": [
    {
     "ename": "ValueError",
     "evalue": "Unable to parse string \" \" at position 488",
     "output_type": "error",
     "traceback": [
      "\u001b[1;31m---------------------------------------------------------------------------\u001b[0m",
      "\u001b[1;31mValueError\u001b[0m                                Traceback (most recent call last)",
      "\u001b[1;32m~\\Anaconda3\\lib\\site-packages\\pandas\\_libs\\lib.pyx\u001b[0m in \u001b[0;36mpandas._libs.lib.maybe_convert_numeric\u001b[1;34m()\u001b[0m\n",
      "\u001b[1;31mValueError\u001b[0m: Unable to parse string \" \"",
      "\nDuring handling of the above exception, another exception occurred:\n",
      "\u001b[1;31mValueError\u001b[0m                                Traceback (most recent call last)",
      "\u001b[1;32m<ipython-input-14-06ba430a4ba5>\u001b[0m in \u001b[0;36m<module>\u001b[1;34m\u001b[0m\n\u001b[1;32m----> 1\u001b[1;33m \u001b[0mpd\u001b[0m\u001b[1;33m.\u001b[0m\u001b[0mto_numeric\u001b[0m\u001b[1;33m(\u001b[0m\u001b[0mdf\u001b[0m\u001b[1;33m.\u001b[0m\u001b[0mTotalCharges\u001b[0m\u001b[1;33m)\u001b[0m\u001b[1;33m\u001b[0m\u001b[1;33m\u001b[0m\u001b[0m\n\u001b[0m",
      "\u001b[1;32m~\\Anaconda3\\lib\\site-packages\\pandas\\core\\tools\\numeric.py\u001b[0m in \u001b[0;36mto_numeric\u001b[1;34m(arg, errors, downcast)\u001b[0m\n\u001b[0;32m    182\u001b[0m         \u001b[1;32mtry\u001b[0m\u001b[1;33m:\u001b[0m\u001b[1;33m\u001b[0m\u001b[1;33m\u001b[0m\u001b[0m\n\u001b[0;32m    183\u001b[0m             values, _ = lib.maybe_convert_numeric(\n\u001b[1;32m--> 184\u001b[1;33m                 \u001b[0mvalues\u001b[0m\u001b[1;33m,\u001b[0m \u001b[0mset\u001b[0m\u001b[1;33m(\u001b[0m\u001b[1;33m)\u001b[0m\u001b[1;33m,\u001b[0m \u001b[0mcoerce_numeric\u001b[0m\u001b[1;33m=\u001b[0m\u001b[0mcoerce_numeric\u001b[0m\u001b[1;33m\u001b[0m\u001b[1;33m\u001b[0m\u001b[0m\n\u001b[0m\u001b[0;32m    185\u001b[0m             )\n\u001b[0;32m    186\u001b[0m         \u001b[1;32mexcept\u001b[0m \u001b[1;33m(\u001b[0m\u001b[0mValueError\u001b[0m\u001b[1;33m,\u001b[0m \u001b[0mTypeError\u001b[0m\u001b[1;33m)\u001b[0m\u001b[1;33m:\u001b[0m\u001b[1;33m\u001b[0m\u001b[1;33m\u001b[0m\u001b[0m\n",
      "\u001b[1;32m~\\Anaconda3\\lib\\site-packages\\pandas\\_libs\\lib.pyx\u001b[0m in \u001b[0;36mpandas._libs.lib.maybe_convert_numeric\u001b[1;34m()\u001b[0m\n",
      "\u001b[1;31mValueError\u001b[0m: Unable to parse string \" \" at position 488"
     ]
    }
   ],
   "source": [
    "pd.to_numeric(df.TotalCharges)"
   ]
  },
  {
   "cell_type": "code",
   "execution_count": 16,
   "metadata": {
    "scrolled": true
   },
   "outputs": [
    {
     "data": {
      "text/plain": [
       "0       False\n",
       "1       False\n",
       "2       False\n",
       "3       False\n",
       "4       False\n",
       "        ...  \n",
       "7038    False\n",
       "7039    False\n",
       "7040    False\n",
       "7041    False\n",
       "7042    False\n",
       "Name: TotalCharges, Length: 7043, dtype: bool"
      ]
     },
     "execution_count": 16,
     "metadata": {},
     "output_type": "execute_result"
    }
   ],
   "source": [
    "pd.to_numeric(df.TotalCharges,errors='coerce').isnull()"
   ]
  },
  {
   "cell_type": "code",
   "execution_count": 17,
   "metadata": {},
   "outputs": [
    {
     "data": {
      "text/plain": [
       "11"
      ]
     },
     "execution_count": 17,
     "metadata": {},
     "output_type": "execute_result"
    }
   ],
   "source": [
    "pd.to_numeric(df.TotalCharges,errors='coerce').isnull().sum()"
   ]
  },
  {
   "cell_type": "code",
   "execution_count": 18,
   "metadata": {
    "scrolled": true
   },
   "outputs": [
    {
     "data": {
      "text/html": [
       "<div>\n",
       "<style scoped>\n",
       "    .dataframe tbody tr th:only-of-type {\n",
       "        vertical-align: middle;\n",
       "    }\n",
       "\n",
       "    .dataframe tbody tr th {\n",
       "        vertical-align: top;\n",
       "    }\n",
       "\n",
       "    .dataframe thead th {\n",
       "        text-align: right;\n",
       "    }\n",
       "</style>\n",
       "<table border=\"1\" class=\"dataframe\">\n",
       "  <thead>\n",
       "    <tr style=\"text-align: right;\">\n",
       "      <th></th>\n",
       "      <th>gender</th>\n",
       "      <th>SeniorCitizen</th>\n",
       "      <th>Partner</th>\n",
       "      <th>Dependents</th>\n",
       "      <th>tenure</th>\n",
       "      <th>PhoneService</th>\n",
       "      <th>MultipleLines</th>\n",
       "      <th>InternetService</th>\n",
       "      <th>OnlineSecurity</th>\n",
       "      <th>OnlineBackup</th>\n",
       "      <th>DeviceProtection</th>\n",
       "      <th>TechSupport</th>\n",
       "      <th>StreamingTV</th>\n",
       "      <th>StreamingMovies</th>\n",
       "      <th>Contract</th>\n",
       "      <th>PaperlessBilling</th>\n",
       "      <th>PaymentMethod</th>\n",
       "      <th>MonthlyCharges</th>\n",
       "      <th>TotalCharges</th>\n",
       "      <th>Churn</th>\n",
       "    </tr>\n",
       "  </thead>\n",
       "  <tbody>\n",
       "    <tr>\n",
       "      <th>488</th>\n",
       "      <td>Female</td>\n",
       "      <td>0</td>\n",
       "      <td>Yes</td>\n",
       "      <td>Yes</td>\n",
       "      <td>0</td>\n",
       "      <td>No</td>\n",
       "      <td>No phone service</td>\n",
       "      <td>DSL</td>\n",
       "      <td>Yes</td>\n",
       "      <td>No</td>\n",
       "      <td>Yes</td>\n",
       "      <td>Yes</td>\n",
       "      <td>Yes</td>\n",
       "      <td>No</td>\n",
       "      <td>Two year</td>\n",
       "      <td>Yes</td>\n",
       "      <td>Bank transfer (automatic)</td>\n",
       "      <td>52.55</td>\n",
       "      <td></td>\n",
       "      <td>No</td>\n",
       "    </tr>\n",
       "    <tr>\n",
       "      <th>753</th>\n",
       "      <td>Male</td>\n",
       "      <td>0</td>\n",
       "      <td>No</td>\n",
       "      <td>Yes</td>\n",
       "      <td>0</td>\n",
       "      <td>Yes</td>\n",
       "      <td>No</td>\n",
       "      <td>No</td>\n",
       "      <td>No internet service</td>\n",
       "      <td>No internet service</td>\n",
       "      <td>No internet service</td>\n",
       "      <td>No internet service</td>\n",
       "      <td>No internet service</td>\n",
       "      <td>No internet service</td>\n",
       "      <td>Two year</td>\n",
       "      <td>No</td>\n",
       "      <td>Mailed check</td>\n",
       "      <td>20.25</td>\n",
       "      <td></td>\n",
       "      <td>No</td>\n",
       "    </tr>\n",
       "    <tr>\n",
       "      <th>936</th>\n",
       "      <td>Female</td>\n",
       "      <td>0</td>\n",
       "      <td>Yes</td>\n",
       "      <td>Yes</td>\n",
       "      <td>0</td>\n",
       "      <td>Yes</td>\n",
       "      <td>No</td>\n",
       "      <td>DSL</td>\n",
       "      <td>Yes</td>\n",
       "      <td>Yes</td>\n",
       "      <td>Yes</td>\n",
       "      <td>No</td>\n",
       "      <td>Yes</td>\n",
       "      <td>Yes</td>\n",
       "      <td>Two year</td>\n",
       "      <td>No</td>\n",
       "      <td>Mailed check</td>\n",
       "      <td>80.85</td>\n",
       "      <td></td>\n",
       "      <td>No</td>\n",
       "    </tr>\n",
       "    <tr>\n",
       "      <th>1082</th>\n",
       "      <td>Male</td>\n",
       "      <td>0</td>\n",
       "      <td>Yes</td>\n",
       "      <td>Yes</td>\n",
       "      <td>0</td>\n",
       "      <td>Yes</td>\n",
       "      <td>Yes</td>\n",
       "      <td>No</td>\n",
       "      <td>No internet service</td>\n",
       "      <td>No internet service</td>\n",
       "      <td>No internet service</td>\n",
       "      <td>No internet service</td>\n",
       "      <td>No internet service</td>\n",
       "      <td>No internet service</td>\n",
       "      <td>Two year</td>\n",
       "      <td>No</td>\n",
       "      <td>Mailed check</td>\n",
       "      <td>25.75</td>\n",
       "      <td></td>\n",
       "      <td>No</td>\n",
       "    </tr>\n",
       "    <tr>\n",
       "      <th>1340</th>\n",
       "      <td>Female</td>\n",
       "      <td>0</td>\n",
       "      <td>Yes</td>\n",
       "      <td>Yes</td>\n",
       "      <td>0</td>\n",
       "      <td>No</td>\n",
       "      <td>No phone service</td>\n",
       "      <td>DSL</td>\n",
       "      <td>Yes</td>\n",
       "      <td>Yes</td>\n",
       "      <td>Yes</td>\n",
       "      <td>Yes</td>\n",
       "      <td>Yes</td>\n",
       "      <td>No</td>\n",
       "      <td>Two year</td>\n",
       "      <td>No</td>\n",
       "      <td>Credit card (automatic)</td>\n",
       "      <td>56.05</td>\n",
       "      <td></td>\n",
       "      <td>No</td>\n",
       "    </tr>\n",
       "    <tr>\n",
       "      <th>3331</th>\n",
       "      <td>Male</td>\n",
       "      <td>0</td>\n",
       "      <td>Yes</td>\n",
       "      <td>Yes</td>\n",
       "      <td>0</td>\n",
       "      <td>Yes</td>\n",
       "      <td>No</td>\n",
       "      <td>No</td>\n",
       "      <td>No internet service</td>\n",
       "      <td>No internet service</td>\n",
       "      <td>No internet service</td>\n",
       "      <td>No internet service</td>\n",
       "      <td>No internet service</td>\n",
       "      <td>No internet service</td>\n",
       "      <td>Two year</td>\n",
       "      <td>No</td>\n",
       "      <td>Mailed check</td>\n",
       "      <td>19.85</td>\n",
       "      <td></td>\n",
       "      <td>No</td>\n",
       "    </tr>\n",
       "    <tr>\n",
       "      <th>3826</th>\n",
       "      <td>Male</td>\n",
       "      <td>0</td>\n",
       "      <td>Yes</td>\n",
       "      <td>Yes</td>\n",
       "      <td>0</td>\n",
       "      <td>Yes</td>\n",
       "      <td>Yes</td>\n",
       "      <td>No</td>\n",
       "      <td>No internet service</td>\n",
       "      <td>No internet service</td>\n",
       "      <td>No internet service</td>\n",
       "      <td>No internet service</td>\n",
       "      <td>No internet service</td>\n",
       "      <td>No internet service</td>\n",
       "      <td>Two year</td>\n",
       "      <td>No</td>\n",
       "      <td>Mailed check</td>\n",
       "      <td>25.35</td>\n",
       "      <td></td>\n",
       "      <td>No</td>\n",
       "    </tr>\n",
       "    <tr>\n",
       "      <th>4380</th>\n",
       "      <td>Female</td>\n",
       "      <td>0</td>\n",
       "      <td>Yes</td>\n",
       "      <td>Yes</td>\n",
       "      <td>0</td>\n",
       "      <td>Yes</td>\n",
       "      <td>No</td>\n",
       "      <td>No</td>\n",
       "      <td>No internet service</td>\n",
       "      <td>No internet service</td>\n",
       "      <td>No internet service</td>\n",
       "      <td>No internet service</td>\n",
       "      <td>No internet service</td>\n",
       "      <td>No internet service</td>\n",
       "      <td>Two year</td>\n",
       "      <td>No</td>\n",
       "      <td>Mailed check</td>\n",
       "      <td>20.00</td>\n",
       "      <td></td>\n",
       "      <td>No</td>\n",
       "    </tr>\n",
       "    <tr>\n",
       "      <th>5218</th>\n",
       "      <td>Male</td>\n",
       "      <td>0</td>\n",
       "      <td>Yes</td>\n",
       "      <td>Yes</td>\n",
       "      <td>0</td>\n",
       "      <td>Yes</td>\n",
       "      <td>No</td>\n",
       "      <td>No</td>\n",
       "      <td>No internet service</td>\n",
       "      <td>No internet service</td>\n",
       "      <td>No internet service</td>\n",
       "      <td>No internet service</td>\n",
       "      <td>No internet service</td>\n",
       "      <td>No internet service</td>\n",
       "      <td>One year</td>\n",
       "      <td>Yes</td>\n",
       "      <td>Mailed check</td>\n",
       "      <td>19.70</td>\n",
       "      <td></td>\n",
       "      <td>No</td>\n",
       "    </tr>\n",
       "    <tr>\n",
       "      <th>6670</th>\n",
       "      <td>Female</td>\n",
       "      <td>0</td>\n",
       "      <td>Yes</td>\n",
       "      <td>Yes</td>\n",
       "      <td>0</td>\n",
       "      <td>Yes</td>\n",
       "      <td>Yes</td>\n",
       "      <td>DSL</td>\n",
       "      <td>No</td>\n",
       "      <td>Yes</td>\n",
       "      <td>Yes</td>\n",
       "      <td>Yes</td>\n",
       "      <td>Yes</td>\n",
       "      <td>No</td>\n",
       "      <td>Two year</td>\n",
       "      <td>No</td>\n",
       "      <td>Mailed check</td>\n",
       "      <td>73.35</td>\n",
       "      <td></td>\n",
       "      <td>No</td>\n",
       "    </tr>\n",
       "    <tr>\n",
       "      <th>6754</th>\n",
       "      <td>Male</td>\n",
       "      <td>0</td>\n",
       "      <td>No</td>\n",
       "      <td>Yes</td>\n",
       "      <td>0</td>\n",
       "      <td>Yes</td>\n",
       "      <td>Yes</td>\n",
       "      <td>DSL</td>\n",
       "      <td>Yes</td>\n",
       "      <td>Yes</td>\n",
       "      <td>No</td>\n",
       "      <td>Yes</td>\n",
       "      <td>No</td>\n",
       "      <td>No</td>\n",
       "      <td>Two year</td>\n",
       "      <td>Yes</td>\n",
       "      <td>Bank transfer (automatic)</td>\n",
       "      <td>61.90</td>\n",
       "      <td></td>\n",
       "      <td>No</td>\n",
       "    </tr>\n",
       "  </tbody>\n",
       "</table>\n",
       "</div>"
      ],
      "text/plain": [
       "      gender  SeniorCitizen Partner Dependents  tenure PhoneService  \\\n",
       "488   Female              0     Yes        Yes       0           No   \n",
       "753     Male              0      No        Yes       0          Yes   \n",
       "936   Female              0     Yes        Yes       0          Yes   \n",
       "1082    Male              0     Yes        Yes       0          Yes   \n",
       "1340  Female              0     Yes        Yes       0           No   \n",
       "3331    Male              0     Yes        Yes       0          Yes   \n",
       "3826    Male              0     Yes        Yes       0          Yes   \n",
       "4380  Female              0     Yes        Yes       0          Yes   \n",
       "5218    Male              0     Yes        Yes       0          Yes   \n",
       "6670  Female              0     Yes        Yes       0          Yes   \n",
       "6754    Male              0      No        Yes       0          Yes   \n",
       "\n",
       "         MultipleLines InternetService       OnlineSecurity  \\\n",
       "488   No phone service             DSL                  Yes   \n",
       "753                 No              No  No internet service   \n",
       "936                 No             DSL                  Yes   \n",
       "1082               Yes              No  No internet service   \n",
       "1340  No phone service             DSL                  Yes   \n",
       "3331                No              No  No internet service   \n",
       "3826               Yes              No  No internet service   \n",
       "4380                No              No  No internet service   \n",
       "5218                No              No  No internet service   \n",
       "6670               Yes             DSL                   No   \n",
       "6754               Yes             DSL                  Yes   \n",
       "\n",
       "             OnlineBackup     DeviceProtection          TechSupport  \\\n",
       "488                    No                  Yes                  Yes   \n",
       "753   No internet service  No internet service  No internet service   \n",
       "936                   Yes                  Yes                   No   \n",
       "1082  No internet service  No internet service  No internet service   \n",
       "1340                  Yes                  Yes                  Yes   \n",
       "3331  No internet service  No internet service  No internet service   \n",
       "3826  No internet service  No internet service  No internet service   \n",
       "4380  No internet service  No internet service  No internet service   \n",
       "5218  No internet service  No internet service  No internet service   \n",
       "6670                  Yes                  Yes                  Yes   \n",
       "6754                  Yes                   No                  Yes   \n",
       "\n",
       "              StreamingTV      StreamingMovies  Contract PaperlessBilling  \\\n",
       "488                   Yes                   No  Two year              Yes   \n",
       "753   No internet service  No internet service  Two year               No   \n",
       "936                   Yes                  Yes  Two year               No   \n",
       "1082  No internet service  No internet service  Two year               No   \n",
       "1340                  Yes                   No  Two year               No   \n",
       "3331  No internet service  No internet service  Two year               No   \n",
       "3826  No internet service  No internet service  Two year               No   \n",
       "4380  No internet service  No internet service  Two year               No   \n",
       "5218  No internet service  No internet service  One year              Yes   \n",
       "6670                  Yes                   No  Two year               No   \n",
       "6754                   No                   No  Two year              Yes   \n",
       "\n",
       "                  PaymentMethod  MonthlyCharges TotalCharges Churn  \n",
       "488   Bank transfer (automatic)           52.55                 No  \n",
       "753                Mailed check           20.25                 No  \n",
       "936                Mailed check           80.85                 No  \n",
       "1082               Mailed check           25.75                 No  \n",
       "1340    Credit card (automatic)           56.05                 No  \n",
       "3331               Mailed check           19.85                 No  \n",
       "3826               Mailed check           25.35                 No  \n",
       "4380               Mailed check           20.00                 No  \n",
       "5218               Mailed check           19.70                 No  \n",
       "6670               Mailed check           73.35                 No  \n",
       "6754  Bank transfer (automatic)           61.90                 No  "
      ]
     },
     "execution_count": 18,
     "metadata": {},
     "output_type": "execute_result"
    }
   ],
   "source": [
    "df[pd.to_numeric(df.TotalCharges,errors='coerce').isnull()]"
   ]
  },
  {
   "cell_type": "code",
   "execution_count": 19,
   "metadata": {},
   "outputs": [],
   "source": [
    "df1=df[df.TotalCharges!=' ']"
   ]
  },
  {
   "cell_type": "code",
   "execution_count": 20,
   "metadata": {},
   "outputs": [
    {
     "data": {
      "text/plain": [
       "(7032, 20)"
      ]
     },
     "execution_count": 20,
     "metadata": {},
     "output_type": "execute_result"
    }
   ],
   "source": [
    "df1.shape"
   ]
  },
  {
   "cell_type": "code",
   "execution_count": 21,
   "metadata": {
    "scrolled": true
   },
   "outputs": [
    {
     "name": "stderr",
     "output_type": "stream",
     "text": [
      "C:\\Users\\Aravind\\Anaconda3\\lib\\site-packages\\pandas\\core\\generic.py:5516: SettingWithCopyWarning: \n",
      "A value is trying to be set on a copy of a slice from a DataFrame.\n",
      "Try using .loc[row_indexer,col_indexer] = value instead\n",
      "\n",
      "See the caveats in the documentation: https://pandas.pydata.org/pandas-docs/stable/user_guide/indexing.html#returning-a-view-versus-a-copy\n",
      "  self[name] = value\n"
     ]
    }
   ],
   "source": [
    "df1.TotalCharges=pd.to_numeric(df1.TotalCharges)"
   ]
  },
  {
   "cell_type": "code",
   "execution_count": 22,
   "metadata": {},
   "outputs": [
    {
     "data": {
      "text/plain": [
       "array([  29.85, 1889.5 ,  108.15, ...,  346.45,  306.6 , 6844.5 ])"
      ]
     },
     "execution_count": 22,
     "metadata": {},
     "output_type": "execute_result"
    }
   ],
   "source": [
    "df1.TotalCharges.values"
   ]
  },
  {
   "cell_type": "code",
   "execution_count": 23,
   "metadata": {},
   "outputs": [
    {
     "data": {
      "text/plain": [
       "dtype('float64')"
      ]
     },
     "execution_count": 23,
     "metadata": {},
     "output_type": "execute_result"
    }
   ],
   "source": [
    "df1.TotalCharges.dtype"
   ]
  },
  {
   "cell_type": "code",
   "execution_count": 24,
   "metadata": {},
   "outputs": [
    {
     "data": {
      "text/plain": [
       "Index(['gender', 'SeniorCitizen', 'Partner', 'Dependents', 'tenure',\n",
       "       'PhoneService', 'MultipleLines', 'InternetService', 'OnlineSecurity',\n",
       "       'OnlineBackup', 'DeviceProtection', 'TechSupport', 'StreamingTV',\n",
       "       'StreamingMovies', 'Contract', 'PaperlessBilling', 'PaymentMethod',\n",
       "       'MonthlyCharges', 'TotalCharges', 'Churn'],\n",
       "      dtype='object')"
      ]
     },
     "execution_count": 24,
     "metadata": {},
     "output_type": "execute_result"
    }
   ],
   "source": [
    "df1.columns"
   ]
  },
  {
   "cell_type": "markdown",
   "metadata": {},
   "source": [
    "### print unique column values"
   ]
  },
  {
   "cell_type": "code",
   "execution_count": 25,
   "metadata": {},
   "outputs": [],
   "source": [
    "def print_unq_col_vals(df):\n",
    "    for column in df:\n",
    "        if df[column].dtypes=='object':\n",
    "            print(f'{column}:{df[column].unique()}')"
   ]
  },
  {
   "cell_type": "code",
   "execution_count": 26,
   "metadata": {
    "scrolled": true
   },
   "outputs": [
    {
     "name": "stdout",
     "output_type": "stream",
     "text": [
      "gender:['Female' 'Male']\n",
      "Partner:['Yes' 'No']\n",
      "Dependents:['No' 'Yes']\n",
      "PhoneService:['No' 'Yes']\n",
      "MultipleLines:['No phone service' 'No' 'Yes']\n",
      "InternetService:['DSL' 'Fiber optic' 'No']\n",
      "OnlineSecurity:['No' 'Yes' 'No internet service']\n",
      "OnlineBackup:['Yes' 'No' 'No internet service']\n",
      "DeviceProtection:['No' 'Yes' 'No internet service']\n",
      "TechSupport:['No' 'Yes' 'No internet service']\n",
      "StreamingTV:['No' 'Yes' 'No internet service']\n",
      "StreamingMovies:['No' 'Yes' 'No internet service']\n",
      "Contract:['Month-to-month' 'One year' 'Two year']\n",
      "PaperlessBilling:['Yes' 'No']\n",
      "PaymentMethod:['Electronic check' 'Mailed check' 'Bank transfer (automatic)'\n",
      " 'Credit card (automatic)']\n",
      "Churn:['No' 'Yes']\n"
     ]
    }
   ],
   "source": [
    "print_unq_col_vals(df1)"
   ]
  },
  {
   "cell_type": "code",
   "execution_count": 27,
   "metadata": {},
   "outputs": [
    {
     "name": "stderr",
     "output_type": "stream",
     "text": [
      "C:\\Users\\Aravind\\Anaconda3\\lib\\site-packages\\pandas\\core\\frame.py:5244: SettingWithCopyWarning: \n",
      "A value is trying to be set on a copy of a slice from a DataFrame\n",
      "\n",
      "See the caveats in the documentation: https://pandas.pydata.org/pandas-docs/stable/user_guide/indexing.html#returning-a-view-versus-a-copy\n",
      "  method=method,\n"
     ]
    }
   ],
   "source": [
    "df1.replace('No internet service' ,'No',inplace=True)\n",
    "df1.replace('No phone service' ,'No',inplace=True)"
   ]
  },
  {
   "cell_type": "code",
   "execution_count": 28,
   "metadata": {},
   "outputs": [],
   "source": [
    "df1.replace({'Yes':1,'No':0},inplace=True)\n"
   ]
  },
  {
   "cell_type": "code",
   "execution_count": 29,
   "metadata": {},
   "outputs": [
    {
     "name": "stderr",
     "output_type": "stream",
     "text": [
      "C:\\Users\\Aravind\\Anaconda3\\lib\\site-packages\\pandas\\core\\generic.py:6619: SettingWithCopyWarning: \n",
      "A value is trying to be set on a copy of a slice from a DataFrame\n",
      "\n",
      "See the caveats in the documentation: https://pandas.pydata.org/pandas-docs/stable/user_guide/indexing.html#returning-a-view-versus-a-copy\n",
      "  return self._update_inplace(result)\n"
     ]
    },
    {
     "data": {
      "text/plain": [
       "array(['DSL', 'Fiber optic', 'PaymentMethod'], dtype=object)"
      ]
     },
     "execution_count": 29,
     "metadata": {},
     "output_type": "execute_result"
    }
   ],
   "source": [
    "df1['InternetService'].replace(0,'PaymentMethod',inplace=True)\n",
    "df1['InternetService'].unique()"
   ]
  },
  {
   "cell_type": "code",
   "execution_count": 30,
   "metadata": {
    "scrolled": true
   },
   "outputs": [
    {
     "data": {
      "text/html": [
       "<div>\n",
       "<style scoped>\n",
       "    .dataframe tbody tr th:only-of-type {\n",
       "        vertical-align: middle;\n",
       "    }\n",
       "\n",
       "    .dataframe tbody tr th {\n",
       "        vertical-align: top;\n",
       "    }\n",
       "\n",
       "    .dataframe thead th {\n",
       "        text-align: right;\n",
       "    }\n",
       "</style>\n",
       "<table border=\"1\" class=\"dataframe\">\n",
       "  <thead>\n",
       "    <tr style=\"text-align: right;\">\n",
       "      <th></th>\n",
       "      <th>gender</th>\n",
       "      <th>SeniorCitizen</th>\n",
       "      <th>Partner</th>\n",
       "      <th>Dependents</th>\n",
       "      <th>tenure</th>\n",
       "      <th>PhoneService</th>\n",
       "      <th>MultipleLines</th>\n",
       "      <th>InternetService</th>\n",
       "      <th>OnlineSecurity</th>\n",
       "      <th>OnlineBackup</th>\n",
       "      <th>DeviceProtection</th>\n",
       "      <th>TechSupport</th>\n",
       "      <th>StreamingTV</th>\n",
       "      <th>StreamingMovies</th>\n",
       "      <th>Contract</th>\n",
       "      <th>PaperlessBilling</th>\n",
       "      <th>PaymentMethod</th>\n",
       "      <th>MonthlyCharges</th>\n",
       "      <th>TotalCharges</th>\n",
       "      <th>Churn</th>\n",
       "    </tr>\n",
       "  </thead>\n",
       "  <tbody>\n",
       "    <tr>\n",
       "      <th>0</th>\n",
       "      <td>Female</td>\n",
       "      <td>0</td>\n",
       "      <td>1</td>\n",
       "      <td>0</td>\n",
       "      <td>1</td>\n",
       "      <td>0</td>\n",
       "      <td>0</td>\n",
       "      <td>DSL</td>\n",
       "      <td>0</td>\n",
       "      <td>1</td>\n",
       "      <td>0</td>\n",
       "      <td>0</td>\n",
       "      <td>0</td>\n",
       "      <td>0</td>\n",
       "      <td>Month-to-month</td>\n",
       "      <td>1</td>\n",
       "      <td>Electronic check</td>\n",
       "      <td>29.85</td>\n",
       "      <td>29.85</td>\n",
       "      <td>0</td>\n",
       "    </tr>\n",
       "    <tr>\n",
       "      <th>1</th>\n",
       "      <td>Male</td>\n",
       "      <td>0</td>\n",
       "      <td>0</td>\n",
       "      <td>0</td>\n",
       "      <td>34</td>\n",
       "      <td>1</td>\n",
       "      <td>0</td>\n",
       "      <td>DSL</td>\n",
       "      <td>1</td>\n",
       "      <td>0</td>\n",
       "      <td>1</td>\n",
       "      <td>0</td>\n",
       "      <td>0</td>\n",
       "      <td>0</td>\n",
       "      <td>One year</td>\n",
       "      <td>0</td>\n",
       "      <td>Mailed check</td>\n",
       "      <td>56.95</td>\n",
       "      <td>1889.50</td>\n",
       "      <td>0</td>\n",
       "    </tr>\n",
       "    <tr>\n",
       "      <th>2</th>\n",
       "      <td>Male</td>\n",
       "      <td>0</td>\n",
       "      <td>0</td>\n",
       "      <td>0</td>\n",
       "      <td>2</td>\n",
       "      <td>1</td>\n",
       "      <td>0</td>\n",
       "      <td>DSL</td>\n",
       "      <td>1</td>\n",
       "      <td>1</td>\n",
       "      <td>0</td>\n",
       "      <td>0</td>\n",
       "      <td>0</td>\n",
       "      <td>0</td>\n",
       "      <td>Month-to-month</td>\n",
       "      <td>1</td>\n",
       "      <td>Mailed check</td>\n",
       "      <td>53.85</td>\n",
       "      <td>108.15</td>\n",
       "      <td>1</td>\n",
       "    </tr>\n",
       "    <tr>\n",
       "      <th>3</th>\n",
       "      <td>Male</td>\n",
       "      <td>0</td>\n",
       "      <td>0</td>\n",
       "      <td>0</td>\n",
       "      <td>45</td>\n",
       "      <td>0</td>\n",
       "      <td>0</td>\n",
       "      <td>DSL</td>\n",
       "      <td>1</td>\n",
       "      <td>0</td>\n",
       "      <td>1</td>\n",
       "      <td>1</td>\n",
       "      <td>0</td>\n",
       "      <td>0</td>\n",
       "      <td>One year</td>\n",
       "      <td>0</td>\n",
       "      <td>Bank transfer (automatic)</td>\n",
       "      <td>42.30</td>\n",
       "      <td>1840.75</td>\n",
       "      <td>0</td>\n",
       "    </tr>\n",
       "    <tr>\n",
       "      <th>4</th>\n",
       "      <td>Female</td>\n",
       "      <td>0</td>\n",
       "      <td>0</td>\n",
       "      <td>0</td>\n",
       "      <td>2</td>\n",
       "      <td>1</td>\n",
       "      <td>0</td>\n",
       "      <td>Fiber optic</td>\n",
       "      <td>0</td>\n",
       "      <td>0</td>\n",
       "      <td>0</td>\n",
       "      <td>0</td>\n",
       "      <td>0</td>\n",
       "      <td>0</td>\n",
       "      <td>Month-to-month</td>\n",
       "      <td>1</td>\n",
       "      <td>Electronic check</td>\n",
       "      <td>70.70</td>\n",
       "      <td>151.65</td>\n",
       "      <td>1</td>\n",
       "    </tr>\n",
       "  </tbody>\n",
       "</table>\n",
       "</div>"
      ],
      "text/plain": [
       "   gender  SeniorCitizen  Partner  Dependents  tenure  PhoneService  \\\n",
       "0  Female              0        1           0       1             0   \n",
       "1    Male              0        0           0      34             1   \n",
       "2    Male              0        0           0       2             1   \n",
       "3    Male              0        0           0      45             0   \n",
       "4  Female              0        0           0       2             1   \n",
       "\n",
       "   MultipleLines InternetService  OnlineSecurity  OnlineBackup  \\\n",
       "0              0             DSL               0             1   \n",
       "1              0             DSL               1             0   \n",
       "2              0             DSL               1             1   \n",
       "3              0             DSL               1             0   \n",
       "4              0     Fiber optic               0             0   \n",
       "\n",
       "   DeviceProtection  TechSupport  StreamingTV  StreamingMovies  \\\n",
       "0                 0            0            0                0   \n",
       "1                 1            0            0                0   \n",
       "2                 0            0            0                0   \n",
       "3                 1            1            0                0   \n",
       "4                 0            0            0                0   \n",
       "\n",
       "         Contract  PaperlessBilling              PaymentMethod  \\\n",
       "0  Month-to-month                 1           Electronic check   \n",
       "1        One year                 0               Mailed check   \n",
       "2  Month-to-month                 1               Mailed check   \n",
       "3        One year                 0  Bank transfer (automatic)   \n",
       "4  Month-to-month                 1           Electronic check   \n",
       "\n",
       "   MonthlyCharges  TotalCharges  Churn  \n",
       "0           29.85         29.85      0  \n",
       "1           56.95       1889.50      0  \n",
       "2           53.85        108.15      1  \n",
       "3           42.30       1840.75      0  \n",
       "4           70.70        151.65      1  "
      ]
     },
     "execution_count": 30,
     "metadata": {},
     "output_type": "execute_result"
    }
   ],
   "source": [
    "df1.head()"
   ]
  },
  {
   "cell_type": "code",
   "execution_count": 31,
   "metadata": {
    "scrolled": true
   },
   "outputs": [
    {
     "name": "stdout",
     "output_type": "stream",
     "text": [
      "gender:['Female' 'Male']\n",
      "SeniorCitizen:[0 1]\n",
      "Partner:[1 0]\n",
      "Dependents:[0 1]\n",
      "tenure:[ 1 34  2 45  8 22 10 28 62 13 16 58 49 25 69 52 71 21 12 30 47 72 17 27\n",
      "  5 46 11 70 63 43 15 60 18 66  9  3 31 50 64 56  7 42 35 48 29 65 38 68\n",
      " 32 55 37 36 41  6  4 33 67 23 57 61 14 20 53 40 59 24 44 19 54 51 26 39]\n",
      "PhoneService:[0 1]\n",
      "MultipleLines:[0 1]\n",
      "InternetService:['DSL' 'Fiber optic' 'PaymentMethod']\n",
      "OnlineSecurity:[0 1]\n",
      "OnlineBackup:[1 0]\n",
      "DeviceProtection:[0 1]\n",
      "TechSupport:[0 1]\n",
      "StreamingTV:[0 1]\n",
      "StreamingMovies:[0 1]\n",
      "Contract:['Month-to-month' 'One year' 'Two year']\n",
      "PaperlessBilling:[1 0]\n",
      "PaymentMethod:['Electronic check' 'Mailed check' 'Bank transfer (automatic)'\n",
      " 'Credit card (automatic)']\n",
      "MonthlyCharges:[29.85 56.95 53.85 ... 63.1  44.2  78.7 ]\n",
      "TotalCharges:[  29.85 1889.5   108.15 ...  346.45  306.6  6844.5 ]\n",
      "Churn:[0 1]\n"
     ]
    }
   ],
   "source": [
    "for col in df1:\n",
    "    print (f'{col}:{df1[col].unique()}')"
   ]
  },
  {
   "cell_type": "code",
   "execution_count": 32,
   "metadata": {
    "scrolled": true
   },
   "outputs": [
    {
     "name": "stderr",
     "output_type": "stream",
     "text": [
      "C:\\Users\\Aravind\\Anaconda3\\lib\\site-packages\\pandas\\core\\generic.py:6619: SettingWithCopyWarning: \n",
      "A value is trying to be set on a copy of a slice from a DataFrame\n",
      "\n",
      "See the caveats in the documentation: https://pandas.pydata.org/pandas-docs/stable/user_guide/indexing.html#returning-a-view-versus-a-copy\n",
      "  return self._update_inplace(result)\n"
     ]
    }
   ],
   "source": [
    "df1['gender'].replace({'Female':1,'Male':0},inplace=True)\n"
   ]
  },
  {
   "cell_type": "code",
   "execution_count": 33,
   "metadata": {
    "scrolled": true
   },
   "outputs": [
    {
     "data": {
      "text/plain": [
       "Index(['gender', 'SeniorCitizen', 'Partner', 'Dependents', 'tenure',\n",
       "       'PhoneService', 'MultipleLines', 'OnlineSecurity', 'OnlineBackup',\n",
       "       'DeviceProtection', 'TechSupport', 'StreamingTV', 'StreamingMovies',\n",
       "       'PaperlessBilling', 'MonthlyCharges', 'TotalCharges', 'Churn',\n",
       "       'InternetService_DSL', 'InternetService_Fiber optic',\n",
       "       'InternetService_PaymentMethod', 'Contract_Month-to-month',\n",
       "       'Contract_One year', 'Contract_Two year',\n",
       "       'PaymentMethod_Bank transfer (automatic)',\n",
       "       'PaymentMethod_Credit card (automatic)',\n",
       "       'PaymentMethod_Electronic check', 'PaymentMethod_Mailed check'],\n",
       "      dtype='object')"
      ]
     },
     "execution_count": 33,
     "metadata": {},
     "output_type": "execute_result"
    }
   ],
   "source": [
    "df2 = pd.get_dummies(data=df1, columns=['InternetService','Contract','PaymentMethod'])\n",
    "df2.columns"
   ]
  },
  {
   "cell_type": "code",
   "execution_count": 34,
   "metadata": {
    "scrolled": false
   },
   "outputs": [
    {
     "data": {
      "text/html": [
       "<div>\n",
       "<style scoped>\n",
       "    .dataframe tbody tr th:only-of-type {\n",
       "        vertical-align: middle;\n",
       "    }\n",
       "\n",
       "    .dataframe tbody tr th {\n",
       "        vertical-align: top;\n",
       "    }\n",
       "\n",
       "    .dataframe thead th {\n",
       "        text-align: right;\n",
       "    }\n",
       "</style>\n",
       "<table border=\"1\" class=\"dataframe\">\n",
       "  <thead>\n",
       "    <tr style=\"text-align: right;\">\n",
       "      <th></th>\n",
       "      <th>gender</th>\n",
       "      <th>SeniorCitizen</th>\n",
       "      <th>Partner</th>\n",
       "      <th>Dependents</th>\n",
       "      <th>tenure</th>\n",
       "      <th>PhoneService</th>\n",
       "      <th>MultipleLines</th>\n",
       "      <th>OnlineSecurity</th>\n",
       "      <th>OnlineBackup</th>\n",
       "      <th>DeviceProtection</th>\n",
       "      <th>...</th>\n",
       "      <th>InternetService_DSL</th>\n",
       "      <th>InternetService_Fiber optic</th>\n",
       "      <th>InternetService_PaymentMethod</th>\n",
       "      <th>Contract_Month-to-month</th>\n",
       "      <th>Contract_One year</th>\n",
       "      <th>Contract_Two year</th>\n",
       "      <th>PaymentMethod_Bank transfer (automatic)</th>\n",
       "      <th>PaymentMethod_Credit card (automatic)</th>\n",
       "      <th>PaymentMethod_Electronic check</th>\n",
       "      <th>PaymentMethod_Mailed check</th>\n",
       "    </tr>\n",
       "  </thead>\n",
       "  <tbody>\n",
       "    <tr>\n",
       "      <th>0</th>\n",
       "      <td>1</td>\n",
       "      <td>0</td>\n",
       "      <td>1</td>\n",
       "      <td>0</td>\n",
       "      <td>1</td>\n",
       "      <td>0</td>\n",
       "      <td>0</td>\n",
       "      <td>0</td>\n",
       "      <td>1</td>\n",
       "      <td>0</td>\n",
       "      <td>...</td>\n",
       "      <td>1</td>\n",
       "      <td>0</td>\n",
       "      <td>0</td>\n",
       "      <td>1</td>\n",
       "      <td>0</td>\n",
       "      <td>0</td>\n",
       "      <td>0</td>\n",
       "      <td>0</td>\n",
       "      <td>1</td>\n",
       "      <td>0</td>\n",
       "    </tr>\n",
       "    <tr>\n",
       "      <th>1</th>\n",
       "      <td>0</td>\n",
       "      <td>0</td>\n",
       "      <td>0</td>\n",
       "      <td>0</td>\n",
       "      <td>34</td>\n",
       "      <td>1</td>\n",
       "      <td>0</td>\n",
       "      <td>1</td>\n",
       "      <td>0</td>\n",
       "      <td>1</td>\n",
       "      <td>...</td>\n",
       "      <td>1</td>\n",
       "      <td>0</td>\n",
       "      <td>0</td>\n",
       "      <td>0</td>\n",
       "      <td>1</td>\n",
       "      <td>0</td>\n",
       "      <td>0</td>\n",
       "      <td>0</td>\n",
       "      <td>0</td>\n",
       "      <td>1</td>\n",
       "    </tr>\n",
       "    <tr>\n",
       "      <th>2</th>\n",
       "      <td>0</td>\n",
       "      <td>0</td>\n",
       "      <td>0</td>\n",
       "      <td>0</td>\n",
       "      <td>2</td>\n",
       "      <td>1</td>\n",
       "      <td>0</td>\n",
       "      <td>1</td>\n",
       "      <td>1</td>\n",
       "      <td>0</td>\n",
       "      <td>...</td>\n",
       "      <td>1</td>\n",
       "      <td>0</td>\n",
       "      <td>0</td>\n",
       "      <td>1</td>\n",
       "      <td>0</td>\n",
       "      <td>0</td>\n",
       "      <td>0</td>\n",
       "      <td>0</td>\n",
       "      <td>0</td>\n",
       "      <td>1</td>\n",
       "    </tr>\n",
       "    <tr>\n",
       "      <th>3</th>\n",
       "      <td>0</td>\n",
       "      <td>0</td>\n",
       "      <td>0</td>\n",
       "      <td>0</td>\n",
       "      <td>45</td>\n",
       "      <td>0</td>\n",
       "      <td>0</td>\n",
       "      <td>1</td>\n",
       "      <td>0</td>\n",
       "      <td>1</td>\n",
       "      <td>...</td>\n",
       "      <td>1</td>\n",
       "      <td>0</td>\n",
       "      <td>0</td>\n",
       "      <td>0</td>\n",
       "      <td>1</td>\n",
       "      <td>0</td>\n",
       "      <td>1</td>\n",
       "      <td>0</td>\n",
       "      <td>0</td>\n",
       "      <td>0</td>\n",
       "    </tr>\n",
       "    <tr>\n",
       "      <th>4</th>\n",
       "      <td>1</td>\n",
       "      <td>0</td>\n",
       "      <td>0</td>\n",
       "      <td>0</td>\n",
       "      <td>2</td>\n",
       "      <td>1</td>\n",
       "      <td>0</td>\n",
       "      <td>0</td>\n",
       "      <td>0</td>\n",
       "      <td>0</td>\n",
       "      <td>...</td>\n",
       "      <td>0</td>\n",
       "      <td>1</td>\n",
       "      <td>0</td>\n",
       "      <td>1</td>\n",
       "      <td>0</td>\n",
       "      <td>0</td>\n",
       "      <td>0</td>\n",
       "      <td>0</td>\n",
       "      <td>1</td>\n",
       "      <td>0</td>\n",
       "    </tr>\n",
       "  </tbody>\n",
       "</table>\n",
       "<p>5 rows × 27 columns</p>\n",
       "</div>"
      ],
      "text/plain": [
       "   gender  SeniorCitizen  Partner  Dependents  tenure  PhoneService  \\\n",
       "0       1              0        1           0       1             0   \n",
       "1       0              0        0           0      34             1   \n",
       "2       0              0        0           0       2             1   \n",
       "3       0              0        0           0      45             0   \n",
       "4       1              0        0           0       2             1   \n",
       "\n",
       "   MultipleLines  OnlineSecurity  OnlineBackup  DeviceProtection  ...  \\\n",
       "0              0               0             1                 0  ...   \n",
       "1              0               1             0                 1  ...   \n",
       "2              0               1             1                 0  ...   \n",
       "3              0               1             0                 1  ...   \n",
       "4              0               0             0                 0  ...   \n",
       "\n",
       "   InternetService_DSL  InternetService_Fiber optic  \\\n",
       "0                    1                            0   \n",
       "1                    1                            0   \n",
       "2                    1                            0   \n",
       "3                    1                            0   \n",
       "4                    0                            1   \n",
       "\n",
       "   InternetService_PaymentMethod  Contract_Month-to-month  Contract_One year  \\\n",
       "0                              0                        1                  0   \n",
       "1                              0                        0                  1   \n",
       "2                              0                        1                  0   \n",
       "3                              0                        0                  1   \n",
       "4                              0                        1                  0   \n",
       "\n",
       "   Contract_Two year  PaymentMethod_Bank transfer (automatic)  \\\n",
       "0                  0                                        0   \n",
       "1                  0                                        0   \n",
       "2                  0                                        0   \n",
       "3                  0                                        1   \n",
       "4                  0                                        0   \n",
       "\n",
       "   PaymentMethod_Credit card (automatic)  PaymentMethod_Electronic check  \\\n",
       "0                                      0                               1   \n",
       "1                                      0                               0   \n",
       "2                                      0                               0   \n",
       "3                                      0                               0   \n",
       "4                                      0                               1   \n",
       "\n",
       "   PaymentMethod_Mailed check  \n",
       "0                           0  \n",
       "1                           1  \n",
       "2                           1  \n",
       "3                           0  \n",
       "4                           0  \n",
       "\n",
       "[5 rows x 27 columns]"
      ]
     },
     "execution_count": 34,
     "metadata": {},
     "output_type": "execute_result"
    }
   ],
   "source": [
    "df2.head()"
   ]
  },
  {
   "cell_type": "code",
   "execution_count": 35,
   "metadata": {},
   "outputs": [
    {
     "data": {
      "text/plain": [
       "gender                                       int64\n",
       "SeniorCitizen                                int64\n",
       "Partner                                      int64\n",
       "Dependents                                   int64\n",
       "tenure                                       int64\n",
       "PhoneService                                 int64\n",
       "MultipleLines                                int64\n",
       "OnlineSecurity                               int64\n",
       "OnlineBackup                                 int64\n",
       "DeviceProtection                             int64\n",
       "TechSupport                                  int64\n",
       "StreamingTV                                  int64\n",
       "StreamingMovies                              int64\n",
       "PaperlessBilling                             int64\n",
       "MonthlyCharges                             float64\n",
       "TotalCharges                               float64\n",
       "Churn                                        int64\n",
       "InternetService_DSL                          uint8\n",
       "InternetService_Fiber optic                  uint8\n",
       "InternetService_PaymentMethod                uint8\n",
       "Contract_Month-to-month                      uint8\n",
       "Contract_One year                            uint8\n",
       "Contract_Two year                            uint8\n",
       "PaymentMethod_Bank transfer (automatic)      uint8\n",
       "PaymentMethod_Credit card (automatic)        uint8\n",
       "PaymentMethod_Electronic check               uint8\n",
       "PaymentMethod_Mailed check                   uint8\n",
       "dtype: object"
      ]
     },
     "execution_count": 35,
     "metadata": {},
     "output_type": "execute_result"
    }
   ],
   "source": [
    "df2.dtypes"
   ]
  },
  {
   "cell_type": "markdown",
   "metadata": {},
   "source": [
    "### Scaling Data"
   ]
  },
  {
   "cell_type": "code",
   "execution_count": 36,
   "metadata": {},
   "outputs": [],
   "source": [
    "from sklearn.preprocessing import MinMaxScaler\n",
    "scaler= MinMaxScaler()\n",
    "\n",
    "columns_to_scale=['tenure','MonthlyCharges','TotalCharges']\n",
    "\n",
    "df2[columns_to_scale]=scaler.fit_transform(df2[columns_to_scale])"
   ]
  },
  {
   "cell_type": "code",
   "execution_count": 37,
   "metadata": {
    "scrolled": true
   },
   "outputs": [
    {
     "data": {
      "text/html": [
       "<div>\n",
       "<style scoped>\n",
       "    .dataframe tbody tr th:only-of-type {\n",
       "        vertical-align: middle;\n",
       "    }\n",
       "\n",
       "    .dataframe tbody tr th {\n",
       "        vertical-align: top;\n",
       "    }\n",
       "\n",
       "    .dataframe thead th {\n",
       "        text-align: right;\n",
       "    }\n",
       "</style>\n",
       "<table border=\"1\" class=\"dataframe\">\n",
       "  <thead>\n",
       "    <tr style=\"text-align: right;\">\n",
       "      <th></th>\n",
       "      <th>gender</th>\n",
       "      <th>SeniorCitizen</th>\n",
       "      <th>Partner</th>\n",
       "      <th>Dependents</th>\n",
       "      <th>tenure</th>\n",
       "      <th>PhoneService</th>\n",
       "      <th>MultipleLines</th>\n",
       "      <th>OnlineSecurity</th>\n",
       "      <th>OnlineBackup</th>\n",
       "      <th>DeviceProtection</th>\n",
       "      <th>...</th>\n",
       "      <th>InternetService_DSL</th>\n",
       "      <th>InternetService_Fiber optic</th>\n",
       "      <th>InternetService_PaymentMethod</th>\n",
       "      <th>Contract_Month-to-month</th>\n",
       "      <th>Contract_One year</th>\n",
       "      <th>Contract_Two year</th>\n",
       "      <th>PaymentMethod_Bank transfer (automatic)</th>\n",
       "      <th>PaymentMethod_Credit card (automatic)</th>\n",
       "      <th>PaymentMethod_Electronic check</th>\n",
       "      <th>PaymentMethod_Mailed check</th>\n",
       "    </tr>\n",
       "  </thead>\n",
       "  <tbody>\n",
       "    <tr>\n",
       "      <th>0</th>\n",
       "      <td>1</td>\n",
       "      <td>0</td>\n",
       "      <td>1</td>\n",
       "      <td>0</td>\n",
       "      <td>0.000000</td>\n",
       "      <td>0</td>\n",
       "      <td>0</td>\n",
       "      <td>0</td>\n",
       "      <td>1</td>\n",
       "      <td>0</td>\n",
       "      <td>...</td>\n",
       "      <td>1</td>\n",
       "      <td>0</td>\n",
       "      <td>0</td>\n",
       "      <td>1</td>\n",
       "      <td>0</td>\n",
       "      <td>0</td>\n",
       "      <td>0</td>\n",
       "      <td>0</td>\n",
       "      <td>1</td>\n",
       "      <td>0</td>\n",
       "    </tr>\n",
       "    <tr>\n",
       "      <th>1</th>\n",
       "      <td>0</td>\n",
       "      <td>0</td>\n",
       "      <td>0</td>\n",
       "      <td>0</td>\n",
       "      <td>0.464789</td>\n",
       "      <td>1</td>\n",
       "      <td>0</td>\n",
       "      <td>1</td>\n",
       "      <td>0</td>\n",
       "      <td>1</td>\n",
       "      <td>...</td>\n",
       "      <td>1</td>\n",
       "      <td>0</td>\n",
       "      <td>0</td>\n",
       "      <td>0</td>\n",
       "      <td>1</td>\n",
       "      <td>0</td>\n",
       "      <td>0</td>\n",
       "      <td>0</td>\n",
       "      <td>0</td>\n",
       "      <td>1</td>\n",
       "    </tr>\n",
       "    <tr>\n",
       "      <th>2</th>\n",
       "      <td>0</td>\n",
       "      <td>0</td>\n",
       "      <td>0</td>\n",
       "      <td>0</td>\n",
       "      <td>0.014085</td>\n",
       "      <td>1</td>\n",
       "      <td>0</td>\n",
       "      <td>1</td>\n",
       "      <td>1</td>\n",
       "      <td>0</td>\n",
       "      <td>...</td>\n",
       "      <td>1</td>\n",
       "      <td>0</td>\n",
       "      <td>0</td>\n",
       "      <td>1</td>\n",
       "      <td>0</td>\n",
       "      <td>0</td>\n",
       "      <td>0</td>\n",
       "      <td>0</td>\n",
       "      <td>0</td>\n",
       "      <td>1</td>\n",
       "    </tr>\n",
       "    <tr>\n",
       "      <th>3</th>\n",
       "      <td>0</td>\n",
       "      <td>0</td>\n",
       "      <td>0</td>\n",
       "      <td>0</td>\n",
       "      <td>0.619718</td>\n",
       "      <td>0</td>\n",
       "      <td>0</td>\n",
       "      <td>1</td>\n",
       "      <td>0</td>\n",
       "      <td>1</td>\n",
       "      <td>...</td>\n",
       "      <td>1</td>\n",
       "      <td>0</td>\n",
       "      <td>0</td>\n",
       "      <td>0</td>\n",
       "      <td>1</td>\n",
       "      <td>0</td>\n",
       "      <td>1</td>\n",
       "      <td>0</td>\n",
       "      <td>0</td>\n",
       "      <td>0</td>\n",
       "    </tr>\n",
       "    <tr>\n",
       "      <th>4</th>\n",
       "      <td>1</td>\n",
       "      <td>0</td>\n",
       "      <td>0</td>\n",
       "      <td>0</td>\n",
       "      <td>0.014085</td>\n",
       "      <td>1</td>\n",
       "      <td>0</td>\n",
       "      <td>0</td>\n",
       "      <td>0</td>\n",
       "      <td>0</td>\n",
       "      <td>...</td>\n",
       "      <td>0</td>\n",
       "      <td>1</td>\n",
       "      <td>0</td>\n",
       "      <td>1</td>\n",
       "      <td>0</td>\n",
       "      <td>0</td>\n",
       "      <td>0</td>\n",
       "      <td>0</td>\n",
       "      <td>1</td>\n",
       "      <td>0</td>\n",
       "    </tr>\n",
       "  </tbody>\n",
       "</table>\n",
       "<p>5 rows × 27 columns</p>\n",
       "</div>"
      ],
      "text/plain": [
       "   gender  SeniorCitizen  Partner  Dependents    tenure  PhoneService  \\\n",
       "0       1              0        1           0  0.000000             0   \n",
       "1       0              0        0           0  0.464789             1   \n",
       "2       0              0        0           0  0.014085             1   \n",
       "3       0              0        0           0  0.619718             0   \n",
       "4       1              0        0           0  0.014085             1   \n",
       "\n",
       "   MultipleLines  OnlineSecurity  OnlineBackup  DeviceProtection  ...  \\\n",
       "0              0               0             1                 0  ...   \n",
       "1              0               1             0                 1  ...   \n",
       "2              0               1             1                 0  ...   \n",
       "3              0               1             0                 1  ...   \n",
       "4              0               0             0                 0  ...   \n",
       "\n",
       "   InternetService_DSL  InternetService_Fiber optic  \\\n",
       "0                    1                            0   \n",
       "1                    1                            0   \n",
       "2                    1                            0   \n",
       "3                    1                            0   \n",
       "4                    0                            1   \n",
       "\n",
       "   InternetService_PaymentMethod  Contract_Month-to-month  Contract_One year  \\\n",
       "0                              0                        1                  0   \n",
       "1                              0                        0                  1   \n",
       "2                              0                        1                  0   \n",
       "3                              0                        0                  1   \n",
       "4                              0                        1                  0   \n",
       "\n",
       "   Contract_Two year  PaymentMethod_Bank transfer (automatic)  \\\n",
       "0                  0                                        0   \n",
       "1                  0                                        0   \n",
       "2                  0                                        0   \n",
       "3                  0                                        1   \n",
       "4                  0                                        0   \n",
       "\n",
       "   PaymentMethod_Credit card (automatic)  PaymentMethod_Electronic check  \\\n",
       "0                                      0                               1   \n",
       "1                                      0                               0   \n",
       "2                                      0                               0   \n",
       "3                                      0                               0   \n",
       "4                                      0                               1   \n",
       "\n",
       "   PaymentMethod_Mailed check  \n",
       "0                           0  \n",
       "1                           1  \n",
       "2                           1  \n",
       "3                           0  \n",
       "4                           0  \n",
       "\n",
       "[5 rows x 27 columns]"
      ]
     },
     "execution_count": 37,
     "metadata": {},
     "output_type": "execute_result"
    }
   ],
   "source": [
    "df2.head()"
   ]
  },
  {
   "cell_type": "markdown",
   "metadata": {},
   "source": [
    "### Splitting Data "
   ]
  },
  {
   "cell_type": "code",
   "execution_count": 38,
   "metadata": {},
   "outputs": [],
   "source": [
    "X = df2.drop('Churn',axis='columns')\n",
    "y = df2['Churn']\n",
    "\n",
    "from sklearn.model_selection import train_test_split\n",
    "X_train, X_test, y_train, y_test = train_test_split(X,y,test_size=0.2,random_state=5)"
   ]
  },
  {
   "cell_type": "code",
   "execution_count": 39,
   "metadata": {
    "scrolled": true
   },
   "outputs": [
    {
     "data": {
      "text/plain": [
       "((5625, 26), (5625,))"
      ]
     },
     "execution_count": 39,
     "metadata": {},
     "output_type": "execute_result"
    }
   ],
   "source": [
    "X_train.shape,y_train.shape"
   ]
  },
  {
   "cell_type": "markdown",
   "metadata": {},
   "source": [
    "### ANN Model"
   ]
  },
  {
   "cell_type": "code",
   "execution_count": 61,
   "metadata": {
    "scrolled": true
   },
   "outputs": [
    {
     "name": "stdout",
     "output_type": "stream",
     "text": [
      "Epoch 1/5\n",
      "94/94 [==============================] - 1s 2ms/step - loss: 0.6175 - accuracy: 0.6983\n",
      "Epoch 2/5\n",
      "94/94 [==============================] - 0s 2ms/step - loss: 0.5132 - accuracy: 0.7572\n",
      "Epoch 3/5\n",
      "94/94 [==============================] - 0s 2ms/step - loss: 0.4964 - accuracy: 0.7615\n",
      "Epoch 4/5\n",
      "94/94 [==============================] - 0s 2ms/step - loss: 0.4885 - accuracy: 0.7649\n",
      "Epoch 5/5\n",
      "94/94 [==============================] - 0s 2ms/step - loss: 0.4839 - accuracy: 0.7602\n"
     ]
    },
    {
     "data": {
      "text/plain": [
       "<keras.callbacks.History at 0x281dff938c8>"
      ]
     },
     "execution_count": 61,
     "metadata": {},
     "output_type": "execute_result"
    }
   ],
   "source": [
    "ANN=keras.Sequential([\n",
    "    keras.layers.Dense(26,input_shape=(26,),activation='relu'),\n",
    "    keras.layers.Dense(15,activation='relu'),\n",
    "    keras.layers.Dense(10,activation='relu'),\n",
    "    keras.layers.Dense(1,activation='sigmoid')\n",
    "])\n",
    "\n",
    "ANN.compile(optimizer='adam',\n",
    "             loss='binary_crossentropy',\n",
    "             metrics=['accuracy'])\n",
    "\n",
    "ANN.fit(X_train,y_train,epochs=5)"
   ]
  },
  {
   "cell_type": "code",
   "execution_count": 62,
   "metadata": {},
   "outputs": [
    {
     "name": "stdout",
     "output_type": "stream",
     "text": [
      "24/24 [==============================] - 0s 2ms/step - loss: 0.5079 - accuracy: 0.7553\n"
     ]
    },
    {
     "data": {
      "text/plain": [
       "[0.5079233646392822, 0.7553476095199585]"
      ]
     },
     "execution_count": 62,
     "metadata": {},
     "output_type": "execute_result"
    }
   ],
   "source": [
    "ANN.evaluate(X_test,y_test)"
   ]
  },
  {
   "cell_type": "code",
   "execution_count": 63,
   "metadata": {},
   "outputs": [],
   "source": [
    "yp= ANN.predict(X_test)"
   ]
  },
  {
   "cell_type": "code",
   "execution_count": 64,
   "metadata": {},
   "outputs": [],
   "source": [
    "y_pred = []\n",
    "for element in yp:\n",
    "    if element > 0.5:\n",
    "        y_pred.append(1)\n",
    "    else:\n",
    "        y_pred.append(0)"
   ]
  },
  {
   "cell_type": "code",
   "execution_count": 65,
   "metadata": {},
   "outputs": [
    {
     "data": {
      "text/plain": [
       "1"
      ]
     },
     "execution_count": 65,
     "metadata": {},
     "output_type": "execute_result"
    }
   ],
   "source": [
    "y_pred[10]"
   ]
  },
  {
   "cell_type": "code",
   "execution_count": 66,
   "metadata": {
    "scrolled": true
   },
   "outputs": [
    {
     "name": "stdout",
     "output_type": "stream",
     "text": [
      "              precision    recall  f1-score   support\n",
      "\n",
      "           0       0.77      0.73      0.75       374\n",
      "           1       0.74      0.78      0.76       374\n",
      "\n",
      "    accuracy                           0.76       748\n",
      "   macro avg       0.76      0.76      0.76       748\n",
      "weighted avg       0.76      0.76      0.76       748\n",
      "\n"
     ]
    }
   ],
   "source": [
    "from sklearn.metrics import confusion_matrix , classification_report\n",
    "\n",
    "print(classification_report(y_test,y_pred))"
   ]
  },
  {
   "cell_type": "code",
   "execution_count": 217,
   "metadata": {},
   "outputs": [],
   "source": [
    "cm=confusion_matrix(y_test,y_pred)\n"
   ]
  },
  {
   "cell_type": "code",
   "execution_count": 224,
   "metadata": {
    "scrolled": true
   },
   "outputs": [
    {
     "data": {
      "text/plain": [
       "<matplotlib.axes._subplots.AxesSubplot at 0x253dd7c3588>"
      ]
     },
     "execution_count": 224,
     "metadata": {},
     "output_type": "execute_result"
    },
    {
     "data": {
      "image/png": "[encoded data removed]",
      "text/plain": [
       "<Figure size 720x504 with 2 Axes>"
      ]
     },
     "metadata": {
      "needs_background": "light"
     },
     "output_type": "display_data"
    }
   ],
   "source": [
    "plt.figure(figsize=(10,7))\n",
    "sn.heatmap(cm,annot=True,fmt='d')"
   ]
  },
  {
   "cell_type": "markdown",
   "metadata": {},
   "source": [
    "### Using other ML algorithms"
   ]
  },
  {
   "cell_type": "code",
   "execution_count": 40,
   "metadata": {},
   "outputs": [],
   "source": [
    "# Machine Learning classification model libraries\n",
    "from sklearn.linear_model import LogisticRegression\n",
    "from sklearn.neighbors import KNeighborsClassifier\n",
    "from sklearn.svm import SVC\n",
    "from sklearn.tree import DecisionTreeClassifier\n",
    "from sklearn.ensemble import RandomForestClassifier\n",
    "from sklearn import metrics"
   ]
  },
  {
   "cell_type": "code",
   "execution_count": 41,
   "metadata": {},
   "outputs": [],
   "source": [
    "#Fit the logistic Regression Model\n",
    "logmodel = LogisticRegression(random_state=50)\n",
    "logmodel.fit(X_train,y_train)\n",
    "\n",
    "#Predict the value for new, unseen data\n",
    "pred = logmodel.predict(X_test)\n",
    "\n",
    "# Find Accuracy using accuracy_score method\n",
    "logmodel_accuracy = round(metrics.accuracy_score(y_test, pred) * 100, 2)"
   ]
  },
  {
   "cell_type": "code",
   "execution_count": 47,
   "metadata": {},
   "outputs": [
    {
     "name": "stdout",
     "output_type": "stream",
     "text": [
      "              precision    recall  f1-score   support\n",
      "\n",
      "           0       0.83      0.89      0.86       999\n",
      "           1       0.68      0.56      0.61       408\n",
      "\n",
      "    accuracy                           0.79      1407\n",
      "   macro avg       0.75      0.72      0.74      1407\n",
      "weighted avg       0.79      0.79      0.79      1407\n",
      "\n"
     ]
    }
   ],
   "source": [
    "from sklearn.metrics import confusion_matrix , classification_report\n",
    "\n",
    "print(classification_report(y_test,pred))"
   ]
  },
  {
   "cell_type": "code",
   "execution_count": 42,
   "metadata": {},
   "outputs": [],
   "source": [
    "#Fit the Support Vector Machine Model\n",
    "svcmodel = SVC(kernel='linear', random_state=50, probability=True)\n",
    "svcmodel.fit(X_train,y_train)\n",
    "\n",
    "#Predict the value for new, unseen data\n",
    "svc_pred = svcmodel.predict(X_test)\n",
    "\n",
    "# Find Accuracy using accuracy_score method\n",
    "svc_accuracy = round(metrics.accuracy_score(y_test, svc_pred) * 100, 2)"
   ]
  },
  {
   "cell_type": "code",
   "execution_count": 48,
   "metadata": {},
   "outputs": [
    {
     "name": "stdout",
     "output_type": "stream",
     "text": [
      "              precision    recall  f1-score   support\n",
      "\n",
      "           0       0.83      0.88      0.85       999\n",
      "           1       0.66      0.54      0.60       408\n",
      "\n",
      "    accuracy                           0.79      1407\n",
      "   macro avg       0.74      0.71      0.73      1407\n",
      "weighted avg       0.78      0.79      0.78      1407\n",
      "\n"
     ]
    }
   ],
   "source": [
    "from sklearn.metrics import confusion_matrix , classification_report\n",
    "\n",
    "print(classification_report(y_test,svc_pred))"
   ]
  },
  {
   "cell_type": "code",
   "execution_count": 43,
   "metadata": {},
   "outputs": [],
   "source": [
    "#Fit the K-Nearest Neighbor Model\n",
    "from sklearn.neighbors import KNeighborsClassifier\n",
    "knnmodel = KNeighborsClassifier(n_neighbors=5, metric='minkowski', p=2) #p=2 represents Euclidean distance, p=1 represents Manhattan Distance\n",
    "knnmodel.fit(X_train, y_train) \n",
    "  \n",
    "#Predict the value for new, unseen data\n",
    "knn_pred = knnmodel.predict(X_test)\n",
    "\n",
    "# Find Accuracy using accuracy_score method\n",
    "knn_accuracy = round(metrics.accuracy_score(y_test, knn_pred) * 100, 2)"
   ]
  },
  {
   "cell_type": "code",
   "execution_count": 49,
   "metadata": {},
   "outputs": [
    {
     "name": "stdout",
     "output_type": "stream",
     "text": [
      "              precision    recall  f1-score   support\n",
      "\n",
      "           0       0.81      0.84      0.83       999\n",
      "           1       0.58      0.52      0.55       408\n",
      "\n",
      "    accuracy                           0.75      1407\n",
      "   macro avg       0.69      0.68      0.69      1407\n",
      "weighted avg       0.74      0.75      0.75      1407\n",
      "\n"
     ]
    }
   ],
   "source": [
    "from sklearn.metrics import confusion_matrix , classification_report\n",
    "\n",
    "print(classification_report(y_test,knn_pred))"
   ]
  },
  {
   "cell_type": "code",
   "execution_count": 44,
   "metadata": {},
   "outputs": [],
   "source": [
    "#Fit the Decision Tree Classification Model\n",
    "from sklearn.tree import DecisionTreeClassifier\n",
    "dtmodel = DecisionTreeClassifier(criterion = \"gini\", random_state = 50)\n",
    "dtmodel.fit(X_train, y_train) \n",
    "  \n",
    "#Predict the value for new, unseen data\n",
    "dt_pred = dtmodel.predict(X_test)\n",
    "\n",
    "# Find Accuracy using accuracy_score method\n",
    "dt_accuracy = round(metrics.accuracy_score(y_test, dt_pred) * 100, 2)"
   ]
  },
  {
   "cell_type": "code",
   "execution_count": 52,
   "metadata": {},
   "outputs": [
    {
     "name": "stdout",
     "output_type": "stream",
     "text": [
      "              precision    recall  f1-score   support\n",
      "\n",
      "           0       0.80      0.79      0.79       999\n",
      "           1       0.50      0.51      0.50       408\n",
      "\n",
      "    accuracy                           0.71      1407\n",
      "   macro avg       0.65      0.65      0.65      1407\n",
      "weighted avg       0.71      0.71      0.71      1407\n",
      "\n"
     ]
    }
   ],
   "source": [
    "print(classification_report(y_test,dt_pred))"
   ]
  },
  {
   "cell_type": "code",
   "execution_count": 45,
   "metadata": {},
   "outputs": [],
   "source": [
    "#Fit the Random Forest Classification Model\n",
    "from sklearn.ensemble import RandomForestClassifier\n",
    "rfmodel = RandomForestClassifier(n_estimators = 100, criterion = 'entropy', random_state = 0)\n",
    "rfmodel.fit(X_train, y_train) \n",
    "  \n",
    "#Predict the value for new, unseen data\n",
    "rf_pred = rfmodel.predict(X_test)\n",
    "\n",
    "# Find Accuracy using accuracy_score method\n",
    "rf_accuracy = round(metrics.accuracy_score(y_test, rf_pred) * 100, 2)"
   ]
  },
  {
   "cell_type": "code",
   "execution_count": 51,
   "metadata": {},
   "outputs": [
    {
     "name": "stdout",
     "output_type": "stream",
     "text": [
      "              precision    recall  f1-score   support\n",
      "\n",
      "           0       0.81      0.89      0.85       999\n",
      "           1       0.65      0.48      0.55       408\n",
      "\n",
      "    accuracy                           0.78      1407\n",
      "   macro avg       0.73      0.69      0.70      1407\n",
      "weighted avg       0.76      0.78      0.76      1407\n",
      "\n"
     ]
    }
   ],
   "source": [
    "print(classification_report(y_test,rf_pred))"
   ]
  },
  {
   "cell_type": "code",
   "execution_count": 46,
   "metadata": {
    "scrolled": true
   },
   "outputs": [
    {
     "data": {
      "text/html": [
       "<div>\n",
       "<style scoped>\n",
       "    .dataframe tbody tr th:only-of-type {\n",
       "        vertical-align: middle;\n",
       "    }\n",
       "\n",
       "    .dataframe tbody tr th {\n",
       "        vertical-align: top;\n",
       "    }\n",
       "\n",
       "    .dataframe thead th {\n",
       "        text-align: right;\n",
       "    }\n",
       "</style>\n",
       "<table border=\"1\" class=\"dataframe\">\n",
       "  <thead>\n",
       "    <tr style=\"text-align: right;\">\n",
       "      <th></th>\n",
       "      <th>Score</th>\n",
       "      <th>Model</th>\n",
       "    </tr>\n",
       "  </thead>\n",
       "  <tbody>\n",
       "    <tr>\n",
       "      <th>0</th>\n",
       "      <td>79.46</td>\n",
       "      <td>Logistic Regression</td>\n",
       "    </tr>\n",
       "    <tr>\n",
       "      <th>1</th>\n",
       "      <td>78.61</td>\n",
       "      <td>Support Vector Machine</td>\n",
       "    </tr>\n",
       "    <tr>\n",
       "      <th>2</th>\n",
       "      <td>77.54</td>\n",
       "      <td>Random Forest</td>\n",
       "    </tr>\n",
       "    <tr>\n",
       "      <th>3</th>\n",
       "      <td>74.98</td>\n",
       "      <td>K-Nearest Neighbor</td>\n",
       "    </tr>\n",
       "    <tr>\n",
       "      <th>4</th>\n",
       "      <td>70.79</td>\n",
       "      <td>Decision Tree</td>\n",
       "    </tr>\n",
       "  </tbody>\n",
       "</table>\n",
       "</div>"
      ],
      "text/plain": [
       "   Score                   Model\n",
       "0  79.46     Logistic Regression\n",
       "1  78.61  Support Vector Machine\n",
       "2  77.54           Random Forest\n",
       "3  74.98      K-Nearest Neighbor\n",
       "4  70.79           Decision Tree"
      ]
     },
     "execution_count": 46,
     "metadata": {},
     "output_type": "execute_result"
    }
   ],
   "source": [
    "# Compare Several models according to their Accuracies\n",
    "Model_Comparison = pd.DataFrame({\n",
    "    'Model': ['Logistic Regression', 'Support Vector Machine', 'K-Nearest Neighbor', \n",
    "              'Decision Tree', 'Random Forest'],\n",
    "    'Score': [logmodel_accuracy, svc_accuracy, knn_accuracy, \n",
    "              dt_accuracy, rf_accuracy]})\n",
    "Model_Comparison_df = Model_Comparison.sort_values(by='Score', ascending=False)\n",
    "Model_Comparison_df = Model_Comparison_df.set_index('Score')\n",
    "Model_Comparison_df.reset_index()"
   ]
  },
  {
   "cell_type": "code",
   "execution_count": null,
   "metadata": {},
   "outputs": [],
   "source": [
    "from sklearn.metrics import confusion_matrix , classification_report\n",
    "\n",
    "print(classification_report(y_test,y_pred))"
   ]
  },
  {
   "cell_type": "markdown",
   "metadata": {},
   "source": [
    "## Fixing Unbalanced Data "
   ]
  },
  {
   "cell_type": "code",
   "execution_count": 106,
   "metadata": {
    "scrolled": true
   },
   "outputs": [],
   "source": [
    "#from tensorflow_addons import losses\n",
    "import tensorflow as tf\n",
    "from tensorflow import keras\n",
    "from sklearn.metrics import confusion_matrix , classification_report"
   ]
  },
  {
   "cell_type": "code",
   "execution_count": 77,
   "metadata": {},
   "outputs": [],
   "source": [
    "def ANN(X_train, y_train, X_test, y_test, loss, weights):\n",
    "    model = keras.Sequential([\n",
    "        keras.layers.Dense(26, input_dim=26, activation='relu'),\n",
    "        keras.layers.Dense(15, activation='relu'),\n",
    "        keras.layers.Dense(1, activation='sigmoid')\n",
    "    ])\n",
    "\n",
    "    model.compile(optimizer='adam', loss=loss, metrics=['accuracy'])\n",
    "    \n",
    "    if weights == -1:\n",
    "        model.fit(X_train, y_train, epochs=50)\n",
    "    else:\n",
    "        model.fit(X_train, y_train, epochs=50, class_weight = weights)\n",
    "    \n",
    "    print(model.evaluate(X_test, y_test))\n",
    "    \n",
    "    y_preds = model.predict(X_test)\n",
    "    y_preds = np.round(y_preds)\n",
    "    \n",
    "    print(\"Classification Report: \\n\", classification_report(y_test, y_preds))\n",
    "    \n",
    "    return y_preds"
   ]
  },
  {
   "cell_type": "code",
   "execution_count": 78,
   "metadata": {},
   "outputs": [
    {
     "name": "stdout",
     "output_type": "stream",
     "text": [
      "Epoch 1/50\n",
      "94/94 [==============================] - 1s 2ms/step - loss: 0.6293 - accuracy: 0.6686\n",
      "Epoch 2/50\n",
      "94/94 [==============================] - 0s 2ms/step - loss: 0.5189 - accuracy: 0.7565\n",
      "Epoch 3/50\n",
      "94/94 [==============================] - 0s 2ms/step - loss: 0.4992 - accuracy: 0.7642\n",
      "Epoch 4/50\n",
      "94/94 [==============================] - 0s 2ms/step - loss: 0.4934 - accuracy: 0.7645\n",
      "Epoch 5/50\n",
      "94/94 [==============================] - 0s 2ms/step - loss: 0.4854 - accuracy: 0.7729\n",
      "Epoch 6/50\n",
      "94/94 [==============================] - 0s 2ms/step - loss: 0.4819 - accuracy: 0.7689\n",
      "Epoch 7/50\n",
      "94/94 [==============================] - 0s 2ms/step - loss: 0.4781 - accuracy: 0.7709\n",
      "Epoch 8/50\n",
      "94/94 [==============================] - 0s 2ms/step - loss: 0.4779 - accuracy: 0.7662\n",
      "Epoch 9/50\n",
      "94/94 [==============================] - 0s 2ms/step - loss: 0.4749 - accuracy: 0.7719\n",
      "Epoch 10/50\n",
      "94/94 [==============================] - 0s 2ms/step - loss: 0.4740 - accuracy: 0.7776\n",
      "Epoch 11/50\n",
      "94/94 [==============================] - 0s 2ms/step - loss: 0.4712 - accuracy: 0.7759\n",
      "Epoch 12/50\n",
      "94/94 [==============================] - 0s 2ms/step - loss: 0.4714 - accuracy: 0.7769\n",
      "Epoch 13/50\n",
      "94/94 [==============================] - 0s 2ms/step - loss: 0.4700 - accuracy: 0.7756\n",
      "Epoch 14/50\n",
      "94/94 [==============================] - 0s 2ms/step - loss: 0.4670 - accuracy: 0.7806\n",
      "Epoch 15/50\n",
      "94/94 [==============================] - 0s 2ms/step - loss: 0.4654 - accuracy: 0.7749\n",
      "Epoch 16/50\n",
      "94/94 [==============================] - 0s 1ms/step - loss: 0.4636 - accuracy: 0.7799\n",
      "Epoch 17/50\n",
      "94/94 [==============================] - 0s 1ms/step - loss: 0.4632 - accuracy: 0.7809\n",
      "Epoch 18/50\n",
      "94/94 [==============================] - 0s 2ms/step - loss: 0.4623 - accuracy: 0.7816\n",
      "Epoch 19/50\n",
      "94/94 [==============================] - 0s 2ms/step - loss: 0.4607 - accuracy: 0.7823\n",
      "Epoch 20/50\n",
      "94/94 [==============================] - 0s 2ms/step - loss: 0.4597 - accuracy: 0.7803\n",
      "Epoch 21/50\n",
      "94/94 [==============================] - 0s 2ms/step - loss: 0.4589 - accuracy: 0.7826\n",
      "Epoch 22/50\n",
      "94/94 [==============================] - 0s 2ms/step - loss: 0.4561 - accuracy: 0.7900\n",
      "Epoch 23/50\n",
      "94/94 [==============================] - 0s 2ms/step - loss: 0.4551 - accuracy: 0.7846\n",
      "Epoch 24/50\n",
      "94/94 [==============================] - 0s 2ms/step - loss: 0.4539 - accuracy: 0.7880\n",
      "Epoch 25/50\n",
      "94/94 [==============================] - 0s 2ms/step - loss: 0.4530 - accuracy: 0.7873\n",
      "Epoch 26/50\n",
      "94/94 [==============================] - 0s 2ms/step - loss: 0.4518 - accuracy: 0.7933\n",
      "Epoch 27/50\n",
      "94/94 [==============================] - 0s 2ms/step - loss: 0.4547 - accuracy: 0.7843\n",
      "Epoch 28/50\n",
      "94/94 [==============================] - 0s 2ms/step - loss: 0.4513 - accuracy: 0.7916\n",
      "Epoch 29/50\n",
      "94/94 [==============================] - 0s 2ms/step - loss: 0.4512 - accuracy: 0.7946\n",
      "Epoch 30/50\n",
      "94/94 [==============================] - 0s 2ms/step - loss: 0.4485 - accuracy: 0.7923\n",
      "Epoch 31/50\n",
      "94/94 [==============================] - 0s 1ms/step - loss: 0.4493 - accuracy: 0.7876\n",
      "Epoch 32/50\n",
      "94/94 [==============================] - 0s 2ms/step - loss: 0.4470 - accuracy: 0.7960\n",
      "Epoch 33/50\n",
      "94/94 [==============================] - 0s 1ms/step - loss: 0.4469 - accuracy: 0.7896\n",
      "Epoch 34/50\n",
      "94/94 [==============================] - 0s 2ms/step - loss: 0.4456 - accuracy: 0.7890\n",
      "Epoch 35/50\n",
      "94/94 [==============================] - 0s 2ms/step - loss: 0.4445 - accuracy: 0.7926\n",
      "Epoch 36/50\n",
      "94/94 [==============================] - 0s 2ms/step - loss: 0.4445 - accuracy: 0.7916\n",
      "Epoch 37/50\n",
      "94/94 [==============================] - 0s 2ms/step - loss: 0.4431 - accuracy: 0.7946\n",
      "Epoch 38/50\n",
      "94/94 [==============================] - 0s 2ms/step - loss: 0.4438 - accuracy: 0.7943\n",
      "Epoch 39/50\n",
      "94/94 [==============================] - 0s 2ms/step - loss: 0.4427 - accuracy: 0.7930\n",
      "Epoch 40/50\n",
      "94/94 [==============================] - 0s 1ms/step - loss: 0.4400 - accuracy: 0.7977\n",
      "Epoch 41/50\n",
      "94/94 [==============================] - 0s 2ms/step - loss: 0.4398 - accuracy: 0.7943\n",
      "Epoch 42/50\n",
      "94/94 [==============================] - 0s 2ms/step - loss: 0.4387 - accuracy: 0.7957\n",
      "Epoch 43/50\n",
      "94/94 [==============================] - 0s 2ms/step - loss: 0.4402 - accuracy: 0.7946\n",
      "Epoch 44/50\n",
      "94/94 [==============================] - 0s 2ms/step - loss: 0.4389 - accuracy: 0.7967\n",
      "Epoch 45/50\n",
      "94/94 [==============================] - 0s 2ms/step - loss: 0.4377 - accuracy: 0.8013\n",
      "Epoch 46/50\n",
      "94/94 [==============================] - 0s 1ms/step - loss: 0.4364 - accuracy: 0.7963\n",
      "Epoch 47/50\n",
      "94/94 [==============================] - 0s 2ms/step - loss: 0.4377 - accuracy: 0.7980\n",
      "Epoch 48/50\n",
      "94/94 [==============================] - 0s 2ms/step - loss: 0.4358 - accuracy: 0.7953\n",
      "Epoch 49/50\n",
      "94/94 [==============================] - 0s 2ms/step - loss: 0.4346 - accuracy: 0.7960\n",
      "Epoch 50/50\n",
      "94/94 [==============================] - 0s 2ms/step - loss: 0.4329 - accuracy: 0.7973\n",
      "24/24 [==============================] - 0s 1ms/step - loss: 0.5052 - accuracy: 0.7580\n",
      "[0.505237340927124, 0.7580214142799377]\n",
      "Classification Report: \n",
      "               precision    recall  f1-score   support\n",
      "\n",
      "           0       0.78      0.72      0.75       374\n",
      "           1       0.74      0.80      0.77       374\n",
      "\n",
      "    accuracy                           0.76       748\n",
      "   macro avg       0.76      0.76      0.76       748\n",
      "weighted avg       0.76      0.76      0.76       748\n",
      "\n"
     ]
    }
   ],
   "source": [
    "y_preds = ANN(X_train, y_train, X_test, y_test, 'binary_crossentropy', -1)\n"
   ]
  },
  {
   "cell_type": "markdown",
   "metadata": {},
   "source": [
    "### Method 1: Undersampling\n"
   ]
  },
  {
   "cell_type": "code",
   "execution_count": 79,
   "metadata": {},
   "outputs": [],
   "source": [
    "# Class count\n",
    "count_class_0, count_class_1 = df1.Churn.value_counts()\n",
    "\n",
    "# Divide by class\n",
    "df_class_0 = df2[df2['Churn'] == 0]\n",
    "df_class_1 = df2[df2['Churn'] == 1]"
   ]
  },
  {
   "cell_type": "code",
   "execution_count": 80,
   "metadata": {},
   "outputs": [
    {
     "name": "stdout",
     "output_type": "stream",
     "text": [
      "Random under-sampling:\n",
      "0    1869\n",
      "1    1869\n",
      "Name: Churn, dtype: int64\n"
     ]
    }
   ],
   "source": [
    "# Undersample 0-class and concat the DataFrames of both class\n",
    "df_class_0_under = df_class_0.sample(count_class_1)\n",
    "df_test_under = pd.concat([df_class_0_under, df_class_1], axis=0)\n",
    "\n",
    "print('Random under-sampling:')\n",
    "print(df_test_under.Churn.value_counts())"
   ]
  },
  {
   "cell_type": "code",
   "execution_count": 81,
   "metadata": {},
   "outputs": [],
   "source": [
    "X = df_test_under.drop('Churn',axis='columns')\n",
    "y = df_test_under['Churn']\n",
    "\n",
    "from sklearn.model_selection import train_test_split\n",
    "X_train, X_test, y_train, y_test = train_test_split(X, y, test_size=0.2, random_state=15, stratify=y)"
   ]
  },
  {
   "cell_type": "code",
   "execution_count": 82,
   "metadata": {
    "scrolled": true
   },
   "outputs": [
    {
     "data": {
      "text/plain": [
       "0    1495\n",
       "1    1495\n",
       "Name: Churn, dtype: int64"
      ]
     },
     "execution_count": 82,
     "metadata": {},
     "output_type": "execute_result"
    }
   ],
   "source": [
    "# Number of classes in training Data\n",
    "y_train.value_counts()"
   ]
  },
  {
   "cell_type": "code",
   "execution_count": 83,
   "metadata": {},
   "outputs": [
    {
     "data": {
      "text/plain": [
       "0    1495\n",
       "1    1495\n",
       "Name: Churn, dtype: int64"
      ]
     },
     "execution_count": 83,
     "metadata": {},
     "output_type": "execute_result"
    }
   ],
   "source": [
    "y_train.value_counts()\n"
   ]
  },
  {
   "cell_type": "markdown",
   "metadata": {},
   "source": [
    "### Method2: Oversampling\n"
   ]
  },
  {
   "cell_type": "code",
   "execution_count": 84,
   "metadata": {},
   "outputs": [
    {
     "name": "stdout",
     "output_type": "stream",
     "text": [
      "Random over-sampling:\n",
      "0    5163\n",
      "1    5163\n",
      "Name: Churn, dtype: int64\n"
     ]
    }
   ],
   "source": [
    "# Oversample 1-class and concat the DataFrames of both classes\n",
    "df_class_1_over = df_class_1.sample(count_class_0, replace=True)\n",
    "df_test_over = pd.concat([df_class_0, df_class_1_over], axis=0)\n",
    "\n",
    "print('Random over-sampling:')\n",
    "print(df_test_over.Churn.value_counts())"
   ]
  },
  {
   "cell_type": "code",
   "execution_count": 85,
   "metadata": {},
   "outputs": [],
   "source": [
    "X = df_test_over.drop('Churn',axis='columns')\n",
    "y = df_test_over['Churn']\n",
    "\n",
    "from sklearn.model_selection import train_test_split\n",
    "X_train, X_test, y_train, y_test = train_test_split(X, y, test_size=0.2, random_state=15, stratify=y)"
   ]
  },
  {
   "cell_type": "code",
   "execution_count": 86,
   "metadata": {},
   "outputs": [
    {
     "name": "stdout",
     "output_type": "stream",
     "text": [
      "Epoch 1/50\n",
      "259/259 [==============================] - 1s 1ms/step - loss: 0.5559 - accuracy: 0.7146\n",
      "Epoch 2/50\n",
      "259/259 [==============================] - 0s 1ms/step - loss: 0.4899 - accuracy: 0.7644\n",
      "Epoch 3/50\n",
      "259/259 [==============================] - 0s 1ms/step - loss: 0.4815 - accuracy: 0.7686\n",
      "Epoch 4/50\n",
      "259/259 [==============================] - 0s 1ms/step - loss: 0.4775 - accuracy: 0.7682\n",
      "Epoch 5/50\n",
      "259/259 [==============================] - 0s 1ms/step - loss: 0.4736 - accuracy: 0.7712\n",
      "Epoch 6/50\n",
      "259/259 [==============================] - 0s 1ms/step - loss: 0.4710 - accuracy: 0.7755\n",
      "Epoch 7/50\n",
      "259/259 [==============================] - 0s 1ms/step - loss: 0.4689 - accuracy: 0.7765\n",
      "Epoch 8/50\n",
      "259/259 [==============================] - 0s 1ms/step - loss: 0.4663 - accuracy: 0.7772\n",
      "Epoch 9/50\n",
      "259/259 [==============================] - 0s 1ms/step - loss: 0.4619 - accuracy: 0.7804\n",
      "Epoch 10/50\n",
      "259/259 [==============================] - 0s 1ms/step - loss: 0.4608 - accuracy: 0.7791\n",
      "Epoch 11/50\n",
      "259/259 [==============================] - 0s 1ms/step - loss: 0.4576 - accuracy: 0.7795\n",
      "Epoch 12/50\n",
      "259/259 [==============================] - 0s 1ms/step - loss: 0.4551 - accuracy: 0.7814\n",
      "Epoch 13/50\n",
      "259/259 [==============================] - 0s 1ms/step - loss: 0.4527 - accuracy: 0.7808\n",
      "Epoch 14/50\n",
      "259/259 [==============================] - 0s 1ms/step - loss: 0.4511 - accuracy: 0.7810\n",
      "Epoch 15/50\n",
      "259/259 [==============================] - 0s 1ms/step - loss: 0.4487 - accuracy: 0.7840\n",
      "Epoch 16/50\n",
      "259/259 [==============================] - ETA: 0s - loss: 0.4494 - accuracy: 0.78 - 0s 2ms/step - loss: 0.4465 - accuracy: 0.7873\n",
      "Epoch 17/50\n",
      "259/259 [==============================] - 0s 1ms/step - loss: 0.4446 - accuracy: 0.7878\n",
      "Epoch 18/50\n",
      "259/259 [==============================] - 0s 1ms/step - loss: 0.4451 - accuracy: 0.7883\n",
      "Epoch 19/50\n",
      "259/259 [==============================] - 0s 1ms/step - loss: 0.4411 - accuracy: 0.7901\n",
      "Epoch 20/50\n",
      "259/259 [==============================] - 0s 2ms/step - loss: 0.4392 - accuracy: 0.7910\n",
      "Epoch 21/50\n",
      "259/259 [==============================] - 0s 2ms/step - loss: 0.4375 - accuracy: 0.7924\n",
      "Epoch 22/50\n",
      "259/259 [==============================] - 0s 2ms/step - loss: 0.4365 - accuracy: 0.7929\n",
      "Epoch 23/50\n",
      "259/259 [==============================] - 0s 1ms/step - loss: 0.4351 - accuracy: 0.7942\n",
      "Epoch 24/50\n",
      "259/259 [==============================] - 0s 1ms/step - loss: 0.4332 - accuracy: 0.7967\n",
      "Epoch 25/50\n",
      "259/259 [==============================] - 0s 1ms/step - loss: 0.4326 - accuracy: 0.7952\n",
      "Epoch 26/50\n",
      "259/259 [==============================] - 0s 1ms/step - loss: 0.4299 - accuracy: 0.7989\n",
      "Epoch 27/50\n",
      "259/259 [==============================] - 0s 1ms/step - loss: 0.4283 - accuracy: 0.7975\n",
      "Epoch 28/50\n",
      "259/259 [==============================] - 0s 1ms/step - loss: 0.4279 - accuracy: 0.7984\n",
      "Epoch 29/50\n",
      "259/259 [==============================] - 0s 1ms/step - loss: 0.4271 - accuracy: 0.7960\n",
      "Epoch 30/50\n",
      "259/259 [==============================] - 0s 1ms/step - loss: 0.4258 - accuracy: 0.8013\n",
      "Epoch 31/50\n",
      "259/259 [==============================] - 0s 2ms/step - loss: 0.4246 - accuracy: 0.7983\n",
      "Epoch 32/50\n",
      "259/259 [==============================] - 0s 1ms/step - loss: 0.4239 - accuracy: 0.7971\n",
      "Epoch 33/50\n",
      "259/259 [==============================] - 0s 1ms/step - loss: 0.4217 - accuracy: 0.8015\n",
      "Epoch 34/50\n",
      "259/259 [==============================] - 0s 1ms/step - loss: 0.4215 - accuracy: 0.8042\n",
      "Epoch 35/50\n",
      "259/259 [==============================] - 0s 1ms/step - loss: 0.4188 - accuracy: 0.8021\n",
      "Epoch 36/50\n",
      "259/259 [==============================] - 0s 1ms/step - loss: 0.4191 - accuracy: 0.8018\n",
      "Epoch 37/50\n",
      "259/259 [==============================] - 0s 1ms/step - loss: 0.4175 - accuracy: 0.8039\n",
      "Epoch 38/50\n",
      "259/259 [==============================] - 0s 1ms/step - loss: 0.4175 - accuracy: 0.8073\n",
      "Epoch 39/50\n",
      "259/259 [==============================] - 0s 1ms/step - loss: 0.4165 - accuracy: 0.8038\n",
      "Epoch 40/50\n",
      "259/259 [==============================] - 0s 1ms/step - loss: 0.4150 - accuracy: 0.8061\n",
      "Epoch 41/50\n",
      "259/259 [==============================] - 0s 1ms/step - loss: 0.4140 - accuracy: 0.8068\n",
      "Epoch 42/50\n",
      "259/259 [==============================] - 0s 1ms/step - loss: 0.4136 - accuracy: 0.8086\n",
      "Epoch 43/50\n",
      "259/259 [==============================] - 0s 1ms/step - loss: 0.4112 - accuracy: 0.8067\n",
      "Epoch 44/50\n",
      "259/259 [==============================] - 0s 1ms/step - loss: 0.4122 - accuracy: 0.8099\n",
      "Epoch 45/50\n",
      "259/259 [==============================] - 0s 1ms/step - loss: 0.4106 - accuracy: 0.8109\n",
      "Epoch 46/50\n",
      "259/259 [==============================] - 0s 1ms/step - loss: 0.4099 - accuracy: 0.8110\n",
      "Epoch 47/50\n",
      "259/259 [==============================] - 0s 2ms/step - loss: 0.4084 - accuracy: 0.8098\n",
      "Epoch 48/50\n",
      "259/259 [==============================] - 0s 2ms/step - loss: 0.4069 - accuracy: 0.8122\n",
      "Epoch 49/50\n",
      "259/259 [==============================] - 0s 2ms/step - loss: 0.4062 - accuracy: 0.8139\n",
      "Epoch 50/50\n",
      "259/259 [==============================] - 0s 2ms/step - loss: 0.4067 - accuracy: 0.8134\n",
      "65/65 [==============================] - 0s 1ms/step - loss: 0.4755 - accuracy: 0.7706\n",
      "[0.47547248005867004, 0.7705711722373962]\n",
      "Classification Report: \n",
      "               precision    recall  f1-score   support\n",
      "\n",
      "           0       0.79      0.73      0.76      1033\n",
      "           1       0.75      0.81      0.78      1033\n",
      "\n",
      "    accuracy                           0.77      2066\n",
      "   macro avg       0.77      0.77      0.77      2066\n",
      "weighted avg       0.77      0.77      0.77      2066\n",
      "\n"
     ]
    }
   ],
   "source": [
    "y_train.value_counts()\n",
    "loss = keras.losses.BinaryCrossentropy()\n",
    "weights = -1\n",
    "y_preds = ANN(X_train, y_train, X_test, y_test, 'binary_crossentropy', -1)"
   ]
  },
  {
   "cell_type": "markdown",
   "metadata": {},
   "source": [
    "### Method3: SMOTE\n"
   ]
  },
  {
   "cell_type": "code",
   "execution_count": 87,
   "metadata": {},
   "outputs": [],
   "source": [
    "X = df2.drop('Churn',axis='columns')\n",
    "y = df2['Churn']\n"
   ]
  },
  {
   "cell_type": "code",
   "execution_count": 88,
   "metadata": {},
   "outputs": [
    {
     "data": {
      "text/plain": [
       "0    5163\n",
       "1    5163\n",
       "Name: Churn, dtype: int64"
      ]
     },
     "execution_count": 88,
     "metadata": {},
     "output_type": "execute_result"
    }
   ],
   "source": [
    "from imblearn.over_sampling import SMOTE\n",
    "\n",
    "smote = SMOTE(sampling_strategy='minority')\n",
    "X_sm, y_sm = smote.fit_sample(X, y)\n",
    "\n",
    "y_sm.value_counts()"
   ]
  },
  {
   "cell_type": "code",
   "execution_count": 89,
   "metadata": {},
   "outputs": [],
   "source": [
    "from sklearn.model_selection import train_test_split\n",
    "X_train, X_test, y_train, y_test = train_test_split(X_sm, y_sm, test_size=0.2, random_state=15, stratify=y_sm)"
   ]
  },
  {
   "cell_type": "code",
   "execution_count": 90,
   "metadata": {},
   "outputs": [
    {
     "data": {
      "text/plain": [
       "1    4130\n",
       "0    4130\n",
       "Name: Churn, dtype: int64"
      ]
     },
     "execution_count": 90,
     "metadata": {},
     "output_type": "execute_result"
    }
   ],
   "source": [
    "y_train.value_counts()\n"
   ]
  },
  {
   "cell_type": "code",
   "execution_count": 91,
   "metadata": {
    "scrolled": false
   },
   "outputs": [
    {
     "name": "stdout",
     "output_type": "stream",
     "text": [
      "Epoch 1/50\n",
      "259/259 [==============================] - 1s 1ms/step - loss: 0.5245 - accuracy: 0.7501\n",
      "Epoch 2/50\n",
      "259/259 [==============================] - 0s 1ms/step - loss: 0.4695 - accuracy: 0.7755\n",
      "Epoch 3/50\n",
      "259/259 [==============================] - 0s 1ms/step - loss: 0.4613 - accuracy: 0.7781\n",
      "Epoch 4/50\n",
      "259/259 [==============================] - 0s 1ms/step - loss: 0.4565 - accuracy: 0.7777\n",
      "Epoch 5/50\n",
      "259/259 [==============================] - 0s 1ms/step - loss: 0.4523 - accuracy: 0.7826\n",
      "Epoch 6/50\n",
      "259/259 [==============================] - 0s 1ms/step - loss: 0.4475 - accuracy: 0.7875\n",
      "Epoch 7/50\n",
      "259/259 [==============================] - 0s 1ms/step - loss: 0.4471 - accuracy: 0.7851\n",
      "Epoch 8/50\n",
      "259/259 [==============================] - 0s 1ms/step - loss: 0.4433 - accuracy: 0.7898\n",
      "Epoch 9/50\n",
      "259/259 [==============================] - 0s 1ms/step - loss: 0.4384 - accuracy: 0.7912\n",
      "Epoch 10/50\n",
      "259/259 [==============================] - 0s 1ms/step - loss: 0.4363 - accuracy: 0.7961\n",
      "Epoch 11/50\n",
      "259/259 [==============================] - 0s 1ms/step - loss: 0.4334 - accuracy: 0.7987\n",
      "Epoch 12/50\n",
      "259/259 [==============================] - 0s 1ms/step - loss: 0.4305 - accuracy: 0.7995\n",
      "Epoch 13/50\n",
      "259/259 [==============================] - 0s 1ms/step - loss: 0.4279 - accuracy: 0.8008\n",
      "Epoch 14/50\n",
      "259/259 [==============================] - 0s 1ms/step - loss: 0.4245 - accuracy: 0.8051\n",
      "Epoch 15/50\n",
      "259/259 [==============================] - 0s 1ms/step - loss: 0.4220 - accuracy: 0.8063\n",
      "Epoch 16/50\n",
      "259/259 [==============================] - 0s 1ms/step - loss: 0.4183 - accuracy: 0.8082\n",
      "Epoch 17/50\n",
      "259/259 [==============================] - 0s 1ms/step - loss: 0.4181 - accuracy: 0.8088\n",
      "Epoch 18/50\n",
      "259/259 [==============================] - 0s 2ms/step - loss: 0.4133 - accuracy: 0.8087\n",
      "Epoch 19/50\n",
      "259/259 [==============================] - 0s 2ms/step - loss: 0.4110 - accuracy: 0.8121\n",
      "Epoch 20/50\n",
      "259/259 [==============================] - 0s 1ms/step - loss: 0.4088 - accuracy: 0.8132\n",
      "Epoch 21/50\n",
      "259/259 [==============================] - 0s 1ms/step - loss: 0.4052 - accuracy: 0.8184\n",
      "Epoch 22/50\n",
      "259/259 [==============================] - 0s 2ms/step - loss: 0.4043 - accuracy: 0.8143\n",
      "Epoch 23/50\n",
      "259/259 [==============================] - 0s 2ms/step - loss: 0.4015 - accuracy: 0.8173\n",
      "Epoch 24/50\n",
      "259/259 [==============================] - 0s 2ms/step - loss: 0.3994 - accuracy: 0.8178\n",
      "Epoch 25/50\n",
      "259/259 [==============================] - 0s 2ms/step - loss: 0.3983 - accuracy: 0.8200\n",
      "Epoch 26/50\n",
      "259/259 [==============================] - 0s 2ms/step - loss: 0.3943 - accuracy: 0.8209\n",
      "Epoch 27/50\n",
      "259/259 [==============================] - 0s 2ms/step - loss: 0.3955 - accuracy: 0.8228\n",
      "Epoch 28/50\n",
      "259/259 [==============================] - 0s 2ms/step - loss: 0.3910 - accuracy: 0.8257\n",
      "Epoch 29/50\n",
      "259/259 [==============================] - 0s 2ms/step - loss: 0.3902 - accuracy: 0.8253\n",
      "Epoch 30/50\n",
      "259/259 [==============================] - 0s 2ms/step - loss: 0.3882 - accuracy: 0.8224\n",
      "Epoch 31/50\n",
      "259/259 [==============================] - 0s 2ms/step - loss: 0.3858 - accuracy: 0.8263\n",
      "Epoch 32/50\n",
      "259/259 [==============================] - 0s 1ms/step - loss: 0.3864 - accuracy: 0.8243\n",
      "Epoch 33/50\n",
      "259/259 [==============================] - 0s 1ms/step - loss: 0.3840 - accuracy: 0.8266\n",
      "Epoch 34/50\n",
      "259/259 [==============================] - 0s 1ms/step - loss: 0.3823 - accuracy: 0.8270\n",
      "Epoch 35/50\n",
      "259/259 [==============================] - 0s 2ms/step - loss: 0.3799 - accuracy: 0.8291\n",
      "Epoch 36/50\n",
      "259/259 [==============================] - 0s 2ms/step - loss: 0.3815 - accuracy: 0.8272\n",
      "Epoch 37/50\n",
      "259/259 [==============================] - 0s 2ms/step - loss: 0.3779 - accuracy: 0.8314\n",
      "Epoch 38/50\n",
      "259/259 [==============================] - 0s 1ms/step - loss: 0.3758 - accuracy: 0.8320\n",
      "Epoch 39/50\n",
      "259/259 [==============================] - 0s 1ms/step - loss: 0.3763 - accuracy: 0.8332\n",
      "Epoch 40/50\n",
      "259/259 [==============================] - 0s 1ms/step - loss: 0.3764 - accuracy: 0.8311\n",
      "Epoch 41/50\n",
      "259/259 [==============================] - 0s 1ms/step - loss: 0.3744 - accuracy: 0.8338\n",
      "Epoch 42/50\n",
      "259/259 [==============================] - 0s 1ms/step - loss: 0.3715 - accuracy: 0.8341\n",
      "Epoch 43/50\n",
      "259/259 [==============================] - 0s 1ms/step - loss: 0.3710 - accuracy: 0.8358\n",
      "Epoch 44/50\n",
      "259/259 [==============================] - 0s 1ms/step - loss: 0.3710 - accuracy: 0.8367\n",
      "Epoch 45/50\n",
      "259/259 [==============================] - 0s 1ms/step - loss: 0.3702 - accuracy: 0.8357\n",
      "Epoch 46/50\n",
      "259/259 [==============================] - 0s 1ms/step - loss: 0.3684 - accuracy: 0.8347\n",
      "Epoch 47/50\n",
      "259/259 [==============================] - 0s 1ms/step - loss: 0.3668 - accuracy: 0.8361\n",
      "Epoch 48/50\n",
      "259/259 [==============================] - 0s 1ms/step - loss: 0.3685 - accuracy: 0.8366\n",
      "Epoch 49/50\n",
      "259/259 [==============================] - 0s 1ms/step - loss: 0.3663 - accuracy: 0.8386\n",
      "Epoch 50/50\n",
      "259/259 [==============================] - 0s 2ms/step - loss: 0.3646 - accuracy: 0.8370\n",
      "65/65 [==============================] - 0s 1ms/step - loss: 0.4214 - accuracy: 0.8093\n",
      "[0.42142659425735474, 0.8092933297157288]\n",
      "Classification Report: \n",
      "               precision    recall  f1-score   support\n",
      "\n",
      "           0       0.84      0.76      0.80      1033\n",
      "           1       0.78      0.86      0.82      1033\n",
      "\n",
      "    accuracy                           0.81      2066\n",
      "   macro avg       0.81      0.81      0.81      2066\n",
      "weighted avg       0.81      0.81      0.81      2066\n",
      "\n"
     ]
    }
   ],
   "source": [
    "y_preds = ANN(X_train, y_train, X_test, y_test, 'binary_crossentropy', -1)\n"
   ]
  },
  {
   "cell_type": "markdown",
   "metadata": {},
   "source": [
    "### Method4: Use of Ensemble with undersampling\n"
   ]
  },
  {
   "cell_type": "code",
   "execution_count": 92,
   "metadata": {},
   "outputs": [
    {
     "data": {
      "text/plain": [
       "0    5163\n",
       "1    1869\n",
       "Name: Churn, dtype: int64"
      ]
     },
     "execution_count": 92,
     "metadata": {},
     "output_type": "execute_result"
    }
   ],
   "source": [
    "df2.Churn.value_counts()\n"
   ]
  },
  {
   "cell_type": "code",
   "execution_count": 93,
   "metadata": {},
   "outputs": [],
   "source": [
    "# Regain Original features and labels\n",
    "X = df2.drop('Churn',axis='columns')\n",
    "y = df2['Churn']"
   ]
  },
  {
   "cell_type": "code",
   "execution_count": 94,
   "metadata": {},
   "outputs": [],
   "source": [
    "from sklearn.model_selection import train_test_split\n",
    "X_train, X_test, y_train, y_test = train_test_split(X, y, test_size=0.2, random_state=15, stratify=y)"
   ]
  },
  {
   "cell_type": "code",
   "execution_count": 95,
   "metadata": {},
   "outputs": [
    {
     "data": {
      "text/plain": [
       "0    4130\n",
       "1    1495\n",
       "Name: Churn, dtype: int64"
      ]
     },
     "execution_count": 95,
     "metadata": {},
     "output_type": "execute_result"
    }
   ],
   "source": [
    "y_train.value_counts()\n"
   ]
  },
  {
   "cell_type": "code",
   "execution_count": 96,
   "metadata": {},
   "outputs": [],
   "source": [
    "df3 = X_train.copy()\n",
    "df3['Churn'] = y_train"
   ]
  },
  {
   "cell_type": "code",
   "execution_count": 97,
   "metadata": {},
   "outputs": [
    {
     "data": {
      "text/html": [
       "<div>\n",
       "<style scoped>\n",
       "    .dataframe tbody tr th:only-of-type {\n",
       "        vertical-align: middle;\n",
       "    }\n",
       "\n",
       "    .dataframe tbody tr th {\n",
       "        vertical-align: top;\n",
       "    }\n",
       "\n",
       "    .dataframe thead th {\n",
       "        text-align: right;\n",
       "    }\n",
       "</style>\n",
       "<table border=\"1\" class=\"dataframe\">\n",
       "  <thead>\n",
       "    <tr style=\"text-align: right;\">\n",
       "      <th></th>\n",
       "      <th>gender</th>\n",
       "      <th>SeniorCitizen</th>\n",
       "      <th>Partner</th>\n",
       "      <th>Dependents</th>\n",
       "      <th>tenure</th>\n",
       "      <th>PhoneService</th>\n",
       "      <th>MultipleLines</th>\n",
       "      <th>OnlineSecurity</th>\n",
       "      <th>OnlineBackup</th>\n",
       "      <th>DeviceProtection</th>\n",
       "      <th>...</th>\n",
       "      <th>InternetService_Fiber optic</th>\n",
       "      <th>InternetService_PaymentMethod</th>\n",
       "      <th>Contract_Month-to-month</th>\n",
       "      <th>Contract_One year</th>\n",
       "      <th>Contract_Two year</th>\n",
       "      <th>PaymentMethod_Bank transfer (automatic)</th>\n",
       "      <th>PaymentMethod_Credit card (automatic)</th>\n",
       "      <th>PaymentMethod_Electronic check</th>\n",
       "      <th>PaymentMethod_Mailed check</th>\n",
       "      <th>Churn</th>\n",
       "    </tr>\n",
       "  </thead>\n",
       "  <tbody>\n",
       "    <tr>\n",
       "      <th>684</th>\n",
       "      <td>1</td>\n",
       "      <td>0</td>\n",
       "      <td>0</td>\n",
       "      <td>0</td>\n",
       "      <td>0.000000</td>\n",
       "      <td>1</td>\n",
       "      <td>0</td>\n",
       "      <td>0</td>\n",
       "      <td>0</td>\n",
       "      <td>0</td>\n",
       "      <td>...</td>\n",
       "      <td>1</td>\n",
       "      <td>0</td>\n",
       "      <td>1</td>\n",
       "      <td>0</td>\n",
       "      <td>0</td>\n",
       "      <td>0</td>\n",
       "      <td>0</td>\n",
       "      <td>0</td>\n",
       "      <td>1</td>\n",
       "      <td>0</td>\n",
       "    </tr>\n",
       "    <tr>\n",
       "      <th>2446</th>\n",
       "      <td>1</td>\n",
       "      <td>0</td>\n",
       "      <td>0</td>\n",
       "      <td>0</td>\n",
       "      <td>0.239437</td>\n",
       "      <td>1</td>\n",
       "      <td>1</td>\n",
       "      <td>0</td>\n",
       "      <td>1</td>\n",
       "      <td>0</td>\n",
       "      <td>...</td>\n",
       "      <td>1</td>\n",
       "      <td>0</td>\n",
       "      <td>1</td>\n",
       "      <td>0</td>\n",
       "      <td>0</td>\n",
       "      <td>0</td>\n",
       "      <td>1</td>\n",
       "      <td>0</td>\n",
       "      <td>0</td>\n",
       "      <td>1</td>\n",
       "    </tr>\n",
       "    <tr>\n",
       "      <th>1680</th>\n",
       "      <td>0</td>\n",
       "      <td>0</td>\n",
       "      <td>1</td>\n",
       "      <td>1</td>\n",
       "      <td>0.774648</td>\n",
       "      <td>1</td>\n",
       "      <td>1</td>\n",
       "      <td>0</td>\n",
       "      <td>0</td>\n",
       "      <td>0</td>\n",
       "      <td>...</td>\n",
       "      <td>0</td>\n",
       "      <td>1</td>\n",
       "      <td>0</td>\n",
       "      <td>1</td>\n",
       "      <td>0</td>\n",
       "      <td>0</td>\n",
       "      <td>0</td>\n",
       "      <td>0</td>\n",
       "      <td>1</td>\n",
       "      <td>0</td>\n",
       "    </tr>\n",
       "    <tr>\n",
       "      <th>2220</th>\n",
       "      <td>0</td>\n",
       "      <td>0</td>\n",
       "      <td>1</td>\n",
       "      <td>0</td>\n",
       "      <td>1.000000</td>\n",
       "      <td>1</td>\n",
       "      <td>0</td>\n",
       "      <td>1</td>\n",
       "      <td>1</td>\n",
       "      <td>0</td>\n",
       "      <td>...</td>\n",
       "      <td>0</td>\n",
       "      <td>0</td>\n",
       "      <td>0</td>\n",
       "      <td>0</td>\n",
       "      <td>1</td>\n",
       "      <td>1</td>\n",
       "      <td>0</td>\n",
       "      <td>0</td>\n",
       "      <td>0</td>\n",
       "      <td>0</td>\n",
       "    </tr>\n",
       "    <tr>\n",
       "      <th>2842</th>\n",
       "      <td>1</td>\n",
       "      <td>0</td>\n",
       "      <td>0</td>\n",
       "      <td>0</td>\n",
       "      <td>0.042254</td>\n",
       "      <td>0</td>\n",
       "      <td>0</td>\n",
       "      <td>1</td>\n",
       "      <td>0</td>\n",
       "      <td>1</td>\n",
       "      <td>...</td>\n",
       "      <td>0</td>\n",
       "      <td>0</td>\n",
       "      <td>1</td>\n",
       "      <td>0</td>\n",
       "      <td>0</td>\n",
       "      <td>0</td>\n",
       "      <td>0</td>\n",
       "      <td>0</td>\n",
       "      <td>1</td>\n",
       "      <td>0</td>\n",
       "    </tr>\n",
       "  </tbody>\n",
       "</table>\n",
       "<p>5 rows × 27 columns</p>\n",
       "</div>"
      ],
      "text/plain": [
       "      gender  SeniorCitizen  Partner  Dependents    tenure  PhoneService  \\\n",
       "684        1              0        0           0  0.000000             1   \n",
       "2446       1              0        0           0  0.239437             1   \n",
       "1680       0              0        1           1  0.774648             1   \n",
       "2220       0              0        1           0  1.000000             1   \n",
       "2842       1              0        0           0  0.042254             0   \n",
       "\n",
       "      MultipleLines  OnlineSecurity  OnlineBackup  DeviceProtection  ...  \\\n",
       "684               0               0             0                 0  ...   \n",
       "2446              1               0             1                 0  ...   \n",
       "1680              1               0             0                 0  ...   \n",
       "2220              0               1             1                 0  ...   \n",
       "2842              0               1             0                 1  ...   \n",
       "\n",
       "      InternetService_Fiber optic  InternetService_PaymentMethod  \\\n",
       "684                             1                              0   \n",
       "2446                            1                              0   \n",
       "1680                            0                              1   \n",
       "2220                            0                              0   \n",
       "2842                            0                              0   \n",
       "\n",
       "      Contract_Month-to-month  Contract_One year  Contract_Two year  \\\n",
       "684                         1                  0                  0   \n",
       "2446                        1                  0                  0   \n",
       "1680                        0                  1                  0   \n",
       "2220                        0                  0                  1   \n",
       "2842                        1                  0                  0   \n",
       "\n",
       "      PaymentMethod_Bank transfer (automatic)  \\\n",
       "684                                         0   \n",
       "2446                                        0   \n",
       "1680                                        0   \n",
       "2220                                        1   \n",
       "2842                                        0   \n",
       "\n",
       "      PaymentMethod_Credit card (automatic)  PaymentMethod_Electronic check  \\\n",
       "684                                       0                               0   \n",
       "2446                                      1                               0   \n",
       "1680                                      0                               0   \n",
       "2220                                      0                               0   \n",
       "2842                                      0                               0   \n",
       "\n",
       "      PaymentMethod_Mailed check  Churn  \n",
       "684                            1      0  \n",
       "2446                           0      1  \n",
       "1680                           1      0  \n",
       "2220                           0      0  \n",
       "2842                           1      0  \n",
       "\n",
       "[5 rows x 27 columns]"
      ]
     },
     "execution_count": 97,
     "metadata": {},
     "output_type": "execute_result"
    }
   ],
   "source": [
    "df3.head()\n"
   ]
  },
  {
   "cell_type": "code",
   "execution_count": 98,
   "metadata": {},
   "outputs": [],
   "source": [
    "df3_class0 = df3[df3.Churn==0]\n",
    "df3_class1 = df3[df3.Churn==1]"
   ]
  },
  {
   "cell_type": "code",
   "execution_count": 99,
   "metadata": {},
   "outputs": [],
   "source": [
    "def get_train_batch(df_majority, df_minority, start, end):\n",
    "    df_train = pd.concat([df_majority[start:end], df_minority], axis=0)\n",
    "\n",
    "    X_train = df_train.drop('Churn', axis='columns')\n",
    "    y_train = df_train.Churn\n",
    "    return X_train, y_train    "
   ]
  },
  {
   "cell_type": "code",
   "execution_count": 100,
   "metadata": {},
   "outputs": [
    {
     "name": "stdout",
     "output_type": "stream",
     "text": [
      "Epoch 1/50\n",
      "94/94 [==============================] - 1s 1ms/step - loss: 0.5984 - accuracy: 0.6746\n",
      "Epoch 2/50\n",
      "94/94 [==============================] - 0s 2ms/step - loss: 0.5141 - accuracy: 0.7569\n",
      "Epoch 3/50\n",
      "94/94 [==============================] - 0s 2ms/step - loss: 0.4991 - accuracy: 0.7599\n",
      "Epoch 4/50\n",
      "94/94 [==============================] - 0s 2ms/step - loss: 0.4923 - accuracy: 0.7649\n",
      "Epoch 5/50\n",
      "94/94 [==============================] - 0s 1ms/step - loss: 0.4867 - accuracy: 0.7672\n",
      "Epoch 6/50\n",
      "94/94 [==============================] - 0s 2ms/step - loss: 0.4829 - accuracy: 0.7689\n",
      "Epoch 7/50\n",
      "94/94 [==============================] - 0s 2ms/step - loss: 0.4802 - accuracy: 0.7712\n",
      "Epoch 8/50\n",
      "94/94 [==============================] - 0s 2ms/step - loss: 0.4768 - accuracy: 0.7702\n",
      "Epoch 9/50\n",
      "94/94 [==============================] - 0s 2ms/step - loss: 0.4744 - accuracy: 0.7706\n",
      "Epoch 10/50\n",
      "94/94 [==============================] - 0s 2ms/step - loss: 0.4719 - accuracy: 0.7753\n",
      "Epoch 11/50\n",
      "94/94 [==============================] - 0s 2ms/step - loss: 0.4707 - accuracy: 0.7763\n",
      "Epoch 12/50\n",
      "94/94 [==============================] - 0s 2ms/step - loss: 0.4677 - accuracy: 0.7776\n",
      "Epoch 13/50\n",
      "94/94 [==============================] - 0s 2ms/step - loss: 0.4658 - accuracy: 0.7766\n",
      "Epoch 14/50\n",
      "94/94 [==============================] - 0s 2ms/step - loss: 0.4637 - accuracy: 0.7806\n",
      "Epoch 15/50\n",
      "94/94 [==============================] - 0s 2ms/step - loss: 0.4613 - accuracy: 0.7806\n",
      "Epoch 16/50\n",
      "94/94 [==============================] - 0s 1ms/step - loss: 0.4603 - accuracy: 0.7839\n",
      "Epoch 17/50\n",
      "94/94 [==============================] - 0s 2ms/step - loss: 0.4574 - accuracy: 0.7863\n",
      "Epoch 18/50\n",
      "94/94 [==============================] - 0s 2ms/step - loss: 0.4565 - accuracy: 0.7826\n",
      "Epoch 19/50\n",
      "94/94 [==============================] - 0s 2ms/step - loss: 0.4538 - accuracy: 0.7873\n",
      "Epoch 20/50\n",
      "94/94 [==============================] - 0s 2ms/step - loss: 0.4528 - accuracy: 0.7863\n",
      "Epoch 21/50\n",
      "94/94 [==============================] - 0s 2ms/step - loss: 0.4504 - accuracy: 0.7886\n",
      "Epoch 22/50\n",
      "94/94 [==============================] - 0s 2ms/step - loss: 0.4502 - accuracy: 0.7846\n",
      "Epoch 23/50\n",
      "94/94 [==============================] - 0s 2ms/step - loss: 0.4494 - accuracy: 0.7883\n",
      "Epoch 24/50\n",
      "94/94 [==============================] - 0s 2ms/step - loss: 0.4473 - accuracy: 0.7903\n",
      "Epoch 25/50\n",
      "94/94 [==============================] - 0s 2ms/step - loss: 0.4444 - accuracy: 0.7990\n",
      "Epoch 26/50\n",
      "94/94 [==============================] - 0s 2ms/step - loss: 0.4450 - accuracy: 0.7900\n",
      "Epoch 27/50\n",
      "94/94 [==============================] - 0s 2ms/step - loss: 0.4421 - accuracy: 0.7950\n",
      "Epoch 28/50\n",
      "94/94 [==============================] - 0s 1ms/step - loss: 0.4413 - accuracy: 0.7946\n",
      "Epoch 29/50\n",
      "94/94 [==============================] - 0s 1ms/step - loss: 0.4412 - accuracy: 0.7920\n",
      "Epoch 30/50\n",
      "94/94 [==============================] - 0s 2ms/step - loss: 0.4381 - accuracy: 0.7997\n",
      "Epoch 31/50\n",
      "94/94 [==============================] - 0s 2ms/step - loss: 0.4382 - accuracy: 0.7923\n",
      "Epoch 32/50\n",
      "94/94 [==============================] - 0s 2ms/step - loss: 0.4372 - accuracy: 0.8000\n",
      "Epoch 33/50\n",
      "94/94 [==============================] - 0s 2ms/step - loss: 0.4346 - accuracy: 0.7957\n",
      "Epoch 34/50\n",
      "94/94 [==============================] - 0s 2ms/step - loss: 0.4336 - accuracy: 0.7997\n",
      "Epoch 35/50\n",
      "94/94 [==============================] - 0s 2ms/step - loss: 0.4322 - accuracy: 0.7997\n",
      "Epoch 36/50\n",
      "94/94 [==============================] - 0s 2ms/step - loss: 0.4314 - accuracy: 0.8020\n",
      "Epoch 37/50\n",
      "94/94 [==============================] - 0s 2ms/step - loss: 0.4299 - accuracy: 0.8064\n",
      "Epoch 38/50\n",
      "94/94 [==============================] - 0s 2ms/step - loss: 0.4289 - accuracy: 0.8000\n",
      "Epoch 39/50\n",
      "94/94 [==============================] - 0s 2ms/step - loss: 0.4267 - accuracy: 0.8013\n",
      "Epoch 40/50\n",
      "94/94 [==============================] - 0s 2ms/step - loss: 0.4260 - accuracy: 0.8017\n",
      "Epoch 41/50\n",
      "94/94 [==============================] - 0s 2ms/step - loss: 0.4247 - accuracy: 0.8023\n",
      "Epoch 42/50\n",
      "94/94 [==============================] - 0s 1ms/step - loss: 0.4234 - accuracy: 0.8010\n",
      "Epoch 43/50\n",
      "94/94 [==============================] - 0s 2ms/step - loss: 0.4216 - accuracy: 0.8084\n",
      "Epoch 44/50\n",
      "94/94 [==============================] - 0s 2ms/step - loss: 0.4208 - accuracy: 0.8117\n",
      "Epoch 45/50\n",
      "94/94 [==============================] - 0s 2ms/step - loss: 0.4196 - accuracy: 0.8043\n",
      "Epoch 46/50\n",
      "94/94 [==============================] - 0s 1ms/step - loss: 0.4193 - accuracy: 0.8057\n",
      "Epoch 47/50\n",
      "94/94 [==============================] - 0s 2ms/step - loss: 0.4185 - accuracy: 0.8070\n",
      "Epoch 48/50\n",
      "94/94 [==============================] - 0s 2ms/step - loss: 0.4179 - accuracy: 0.8070\n",
      "Epoch 49/50\n",
      "94/94 [==============================] - 0s 2ms/step - loss: 0.4171 - accuracy: 0.8054\n",
      "Epoch 50/50\n",
      "94/94 [==============================] - 0s 2ms/step - loss: 0.4144 - accuracy: 0.8134\n",
      "44/44 [==============================] - 0s 1ms/step - loss: 0.5463 - accuracy: 0.7299\n",
      "[0.5462668538093567, 0.729921817779541]\n",
      "Classification Report: \n",
      "               precision    recall  f1-score   support\n",
      "\n",
      "           0       0.90      0.71      0.79      1033\n",
      "           1       0.49      0.78      0.61       374\n",
      "\n",
      "    accuracy                           0.73      1407\n",
      "   macro avg       0.70      0.75      0.70      1407\n",
      "weighted avg       0.79      0.73      0.74      1407\n",
      "\n"
     ]
    }
   ],
   "source": [
    "X_train, y_train = get_train_batch(df3_class0, df3_class1, 0, 1495)\n",
    "\n",
    "y_pred1 = ANN(X_train, y_train, X_test, y_test, 'binary_crossentropy', -1)"
   ]
  },
  {
   "cell_type": "code",
   "execution_count": 101,
   "metadata": {},
   "outputs": [
    {
     "name": "stdout",
     "output_type": "stream",
     "text": [
      "Epoch 1/50\n",
      "94/94 [==============================] - 1s 2ms/step - loss: 0.5842 - accuracy: 0.7074\n",
      "Epoch 2/50\n",
      "94/94 [==============================] - 0s 1ms/step - loss: 0.5118 - accuracy: 0.7505\n",
      "Epoch 3/50\n",
      "94/94 [==============================] - 0s 2ms/step - loss: 0.4955 - accuracy: 0.7589\n",
      "Epoch 4/50\n",
      "94/94 [==============================] - 0s 1ms/step - loss: 0.4869 - accuracy: 0.7592\n",
      "Epoch 5/50\n",
      "94/94 [==============================] - 0s 2ms/step - loss: 0.4821 - accuracy: 0.7605\n",
      "Epoch 6/50\n",
      "94/94 [==============================] - 0s 1ms/step - loss: 0.4772 - accuracy: 0.7669\n",
      "Epoch 7/50\n",
      "94/94 [==============================] - 0s 2ms/step - loss: 0.4743 - accuracy: 0.7679\n",
      "Epoch 8/50\n",
      "94/94 [==============================] - 0s 2ms/step - loss: 0.4725 - accuracy: 0.7709\n",
      "Epoch 9/50\n",
      "94/94 [==============================] - 0s 2ms/step - loss: 0.4696 - accuracy: 0.7763\n",
      "Epoch 10/50\n",
      "94/94 [==============================] - 0s 2ms/step - loss: 0.4681 - accuracy: 0.7712\n",
      "Epoch 11/50\n",
      "94/94 [==============================] - 0s 2ms/step - loss: 0.4640 - accuracy: 0.7739\n",
      "Epoch 12/50\n",
      "94/94 [==============================] - 0s 2ms/step - loss: 0.4627 - accuracy: 0.7736\n",
      "Epoch 13/50\n",
      "94/94 [==============================] - 0s 2ms/step - loss: 0.4604 - accuracy: 0.7699\n",
      "Epoch 14/50\n",
      "94/94 [==============================] - 0s 2ms/step - loss: 0.4590 - accuracy: 0.7776\n",
      "Epoch 15/50\n",
      "94/94 [==============================] - 0s 2ms/step - loss: 0.4585 - accuracy: 0.7732\n",
      "Epoch 16/50\n",
      "94/94 [==============================] - 0s 2ms/step - loss: 0.4579 - accuracy: 0.7729\n",
      "Epoch 17/50\n",
      "94/94 [==============================] - 0s 2ms/step - loss: 0.4546 - accuracy: 0.7756\n",
      "Epoch 18/50\n",
      "94/94 [==============================] - 0s 2ms/step - loss: 0.4540 - accuracy: 0.7749\n",
      "Epoch 19/50\n",
      "94/94 [==============================] - 0s 2ms/step - loss: 0.4512 - accuracy: 0.7769\n",
      "Epoch 20/50\n",
      "94/94 [==============================] - 0s 2ms/step - loss: 0.4493 - accuracy: 0.7806\n",
      "Epoch 21/50\n",
      "94/94 [==============================] - 0s 1ms/step - loss: 0.4472 - accuracy: 0.7806\n",
      "Epoch 22/50\n",
      "94/94 [==============================] - 0s 2ms/step - loss: 0.4485 - accuracy: 0.7746\n",
      "Epoch 23/50\n",
      "94/94 [==============================] - 0s 2ms/step - loss: 0.4460 - accuracy: 0.7793\n",
      "Epoch 24/50\n",
      "94/94 [==============================] - ETA: 0s - loss: 0.4461 - accuracy: 0.77 - 0s 2ms/step - loss: 0.4441 - accuracy: 0.7806\n",
      "Epoch 25/50\n",
      "94/94 [==============================] - 0s 2ms/step - loss: 0.4439 - accuracy: 0.7853\n",
      "Epoch 26/50\n",
      "94/94 [==============================] - 0s 2ms/step - loss: 0.4429 - accuracy: 0.7836\n",
      "Epoch 27/50\n",
      "94/94 [==============================] - 0s 2ms/step - loss: 0.4407 - accuracy: 0.7843\n",
      "Epoch 28/50\n",
      "94/94 [==============================] - 0s 2ms/step - loss: 0.4390 - accuracy: 0.7876\n",
      "Epoch 29/50\n",
      "94/94 [==============================] - 0s 2ms/step - loss: 0.4368 - accuracy: 0.7900\n",
      "Epoch 30/50\n",
      "94/94 [==============================] - 0s 2ms/step - loss: 0.4360 - accuracy: 0.7893\n",
      "Epoch 31/50\n",
      "94/94 [==============================] - 0s 2ms/step - loss: 0.4354 - accuracy: 0.7906\n",
      "Epoch 32/50\n",
      "94/94 [==============================] - 0s 2ms/step - loss: 0.4337 - accuracy: 0.7916\n",
      "Epoch 33/50\n",
      "94/94 [==============================] - 0s 2ms/step - loss: 0.4327 - accuracy: 0.7883\n",
      "Epoch 34/50\n",
      "94/94 [==============================] - 0s 2ms/step - loss: 0.4317 - accuracy: 0.7933\n",
      "Epoch 35/50\n",
      "94/94 [==============================] - 0s 2ms/step - loss: 0.4313 - accuracy: 0.7873\n",
      "Epoch 36/50\n",
      "94/94 [==============================] - 0s 2ms/step - loss: 0.4282 - accuracy: 0.7943\n",
      "Epoch 37/50\n",
      "94/94 [==============================] - 0s 1ms/step - loss: 0.4279 - accuracy: 0.7936\n",
      "Epoch 38/50\n",
      "94/94 [==============================] - 0s 2ms/step - loss: 0.4269 - accuracy: 0.7960\n",
      "Epoch 39/50\n",
      "94/94 [==============================] - 0s 2ms/step - loss: 0.4266 - accuracy: 0.7983\n",
      "Epoch 40/50\n",
      "94/94 [==============================] - 0s 2ms/step - loss: 0.4254 - accuracy: 0.7960\n",
      "Epoch 41/50\n",
      "94/94 [==============================] - 0s 2ms/step - loss: 0.4242 - accuracy: 0.7926\n",
      "Epoch 42/50\n",
      "94/94 [==============================] - 0s 2ms/step - loss: 0.4237 - accuracy: 0.7943\n",
      "Epoch 43/50\n",
      "94/94 [==============================] - 0s 2ms/step - loss: 0.4220 - accuracy: 0.7946\n",
      "Epoch 44/50\n",
      "94/94 [==============================] - 0s 2ms/step - loss: 0.4201 - accuracy: 0.7967\n",
      "Epoch 45/50\n",
      "94/94 [==============================] - 0s 2ms/step - loss: 0.4190 - accuracy: 0.8027\n",
      "Epoch 46/50\n",
      "94/94 [==============================] - 0s 2ms/step - loss: 0.4172 - accuracy: 0.8003\n",
      "Epoch 47/50\n",
      "94/94 [==============================] - 0s 2ms/step - loss: 0.4170 - accuracy: 0.7970\n",
      "Epoch 48/50\n",
      "94/94 [==============================] - 0s 2ms/step - loss: 0.4160 - accuracy: 0.7997\n",
      "Epoch 49/50\n",
      "94/94 [==============================] - 0s 2ms/step - loss: 0.4172 - accuracy: 0.7946\n",
      "Epoch 50/50\n",
      "94/94 [==============================] - 0s 2ms/step - loss: 0.4167 - accuracy: 0.8000\n",
      "44/44 [==============================] - 0s 1ms/step - loss: 0.5700 - accuracy: 0.7036\n",
      "[0.5700384974479675, 0.7036247253417969]\n",
      "Classification Report: \n",
      "               precision    recall  f1-score   support\n",
      "\n",
      "           0       0.89      0.68      0.77      1033\n",
      "           1       0.47      0.78      0.58       374\n",
      "\n",
      "    accuracy                           0.70      1407\n",
      "   macro avg       0.68      0.73      0.68      1407\n",
      "weighted avg       0.78      0.70      0.72      1407\n",
      "\n"
     ]
    }
   ],
   "source": [
    "X_train, y_train = get_train_batch(df3_class0, df3_class1, 1495, 2990)\n",
    "\n",
    "y_pred2 = ANN(X_train, y_train, X_test, y_test, 'binary_crossentropy', -1)"
   ]
  },
  {
   "cell_type": "code",
   "execution_count": 102,
   "metadata": {},
   "outputs": [
    {
     "name": "stdout",
     "output_type": "stream",
     "text": [
      "Epoch 1/50\n",
      "83/83 [==============================] - 1s 1ms/step - loss: 0.6092 - accuracy: 0.6854\n",
      "Epoch 2/50\n",
      "83/83 [==============================] - 0s 2ms/step - loss: 0.5093 - accuracy: 0.7613\n",
      "Epoch 3/50\n",
      "83/83 [==============================] - 0s 2ms/step - loss: 0.4923 - accuracy: 0.7712\n",
      "Epoch 4/50\n",
      "83/83 [==============================] - 0s 2ms/step - loss: 0.4809 - accuracy: 0.7738\n",
      "Epoch 5/50\n",
      "83/83 [==============================] - 0s 2ms/step - loss: 0.4751 - accuracy: 0.7761\n",
      "Epoch 6/50\n",
      "83/83 [==============================] - 0s 2ms/step - loss: 0.4701 - accuracy: 0.7818\n",
      "Epoch 7/50\n",
      "83/83 [==============================] - 0s 2ms/step - loss: 0.4674 - accuracy: 0.7841\n",
      "Epoch 8/50\n",
      "83/83 [==============================] - 0s 2ms/step - loss: 0.4645 - accuracy: 0.7844\n",
      "Epoch 9/50\n",
      "83/83 [==============================] - 0s 2ms/step - loss: 0.4628 - accuracy: 0.7833\n",
      "Epoch 10/50\n",
      "83/83 [==============================] - 0s 2ms/step - loss: 0.4600 - accuracy: 0.7841\n",
      "Epoch 11/50\n",
      "83/83 [==============================] - 0s 2ms/step - loss: 0.4581 - accuracy: 0.7867\n",
      "Epoch 12/50\n",
      "83/83 [==============================] - 0s 2ms/step - loss: 0.4559 - accuracy: 0.7875\n",
      "Epoch 13/50\n",
      "83/83 [==============================] - 0s 1ms/step - loss: 0.4543 - accuracy: 0.7909\n",
      "Epoch 14/50\n",
      "83/83 [==============================] - 0s 2ms/step - loss: 0.4519 - accuracy: 0.7958\n",
      "Epoch 15/50\n",
      "83/83 [==============================] - 0s 2ms/step - loss: 0.4506 - accuracy: 0.7917\n",
      "Epoch 16/50\n",
      "83/83 [==============================] - 0s 2ms/step - loss: 0.4495 - accuracy: 0.7898\n",
      "Epoch 17/50\n",
      "83/83 [==============================] - 0s 2ms/step - loss: 0.4474 - accuracy: 0.7920\n",
      "Epoch 18/50\n",
      "83/83 [==============================] - 0s 2ms/step - loss: 0.4452 - accuracy: 0.7973\n",
      "Epoch 19/50\n",
      "83/83 [==============================] - 0s 2ms/step - loss: 0.4448 - accuracy: 0.7947\n",
      "Epoch 20/50\n",
      "83/83 [==============================] - 0s 2ms/step - loss: 0.4428 - accuracy: 0.7962\n",
      "Epoch 21/50\n",
      "83/83 [==============================] - 0s 2ms/step - loss: 0.4407 - accuracy: 0.8004\n",
      "Epoch 22/50\n",
      "83/83 [==============================] - 0s 2ms/step - loss: 0.4418 - accuracy: 0.7935\n",
      "Epoch 23/50\n",
      "83/83 [==============================] - 0s 2ms/step - loss: 0.4379 - accuracy: 0.8046\n",
      "Epoch 24/50\n",
      "83/83 [==============================] - 0s 1ms/step - loss: 0.4378 - accuracy: 0.7966\n",
      "Epoch 25/50\n",
      "83/83 [==============================] - 0s 2ms/step - loss: 0.4358 - accuracy: 0.8008\n",
      "Epoch 26/50\n",
      "83/83 [==============================] - 0s 2ms/step - loss: 0.4331 - accuracy: 0.8011\n",
      "Epoch 27/50\n",
      "83/83 [==============================] - 0s 2ms/step - loss: 0.4357 - accuracy: 0.7992\n",
      "Epoch 28/50\n",
      "83/83 [==============================] - 0s 2ms/step - loss: 0.4314 - accuracy: 0.7989\n",
      "Epoch 29/50\n",
      "83/83 [==============================] - 0s 2ms/step - loss: 0.4291 - accuracy: 0.8011\n",
      "Epoch 30/50\n",
      "83/83 [==============================] - 0s 2ms/step - loss: 0.4301 - accuracy: 0.8008\n",
      "Epoch 31/50\n",
      "83/83 [==============================] - 0s 2ms/step - loss: 0.4298 - accuracy: 0.8004\n",
      "Epoch 32/50\n",
      "83/83 [==============================] - 0s 2ms/step - loss: 0.4271 - accuracy: 0.8011\n",
      "Epoch 33/50\n",
      "83/83 [==============================] - 0s 2ms/step - loss: 0.4255 - accuracy: 0.8053\n",
      "Epoch 34/50\n",
      "83/83 [==============================] - 0s 2ms/step - loss: 0.4241 - accuracy: 0.8049\n",
      "Epoch 35/50\n",
      "83/83 [==============================] - 0s 2ms/step - loss: 0.4226 - accuracy: 0.8068\n",
      "Epoch 36/50\n",
      "83/83 [==============================] - 0s 2ms/step - loss: 0.4220 - accuracy: 0.8065\n",
      "Epoch 37/50\n",
      "83/83 [==============================] - 0s 2ms/step - loss: 0.4224 - accuracy: 0.8099\n",
      "Epoch 38/50\n",
      "83/83 [==============================] - 0s 2ms/step - loss: 0.4198 - accuracy: 0.8114\n",
      "Epoch 39/50\n",
      "83/83 [==============================] - 0s 2ms/step - loss: 0.4199 - accuracy: 0.8114\n",
      "Epoch 40/50\n",
      "83/83 [==============================] - 0s 2ms/step - loss: 0.4185 - accuracy: 0.8076\n",
      "Epoch 41/50\n",
      "83/83 [==============================] - 0s 2ms/step - loss: 0.4169 - accuracy: 0.8175\n",
      "Epoch 42/50\n",
      "83/83 [==============================] - 0s 2ms/step - loss: 0.4173 - accuracy: 0.8099\n",
      "Epoch 43/50\n",
      "83/83 [==============================] - 0s 2ms/step - loss: 0.4156 - accuracy: 0.8114\n",
      "Epoch 44/50\n",
      "83/83 [==============================] - 0s 2ms/step - loss: 0.4141 - accuracy: 0.8133\n",
      "Epoch 45/50\n",
      "83/83 [==============================] - 0s 2ms/step - loss: 0.4124 - accuracy: 0.8137\n",
      "Epoch 46/50\n",
      "83/83 [==============================] - 0s 2ms/step - loss: 0.4124 - accuracy: 0.8118\n",
      "Epoch 47/50\n",
      "83/83 [==============================] - 0s 2ms/step - loss: 0.4115 - accuracy: 0.8159\n",
      "Epoch 48/50\n",
      "83/83 [==============================] - 0s 2ms/step - loss: 0.4096 - accuracy: 0.8121\n",
      "Epoch 49/50\n",
      "83/83 [==============================] - 0s 2ms/step - loss: 0.4095 - accuracy: 0.8114\n",
      "Epoch 50/50\n",
      "83/83 [==============================] - 0s 2ms/step - loss: 0.4079 - accuracy: 0.8213\n",
      "44/44 [==============================] - 0s 1ms/step - loss: 0.5816 - accuracy: 0.7086\n",
      "[0.5815848708152771, 0.708599865436554]\n",
      "Classification Report: \n",
      "               precision    recall  f1-score   support\n",
      "\n",
      "           0       0.90      0.67      0.77      1033\n",
      "           1       0.47      0.80      0.59       374\n",
      "\n",
      "    accuracy                           0.71      1407\n",
      "   macro avg       0.69      0.74      0.68      1407\n",
      "weighted avg       0.79      0.71      0.73      1407\n",
      "\n"
     ]
    }
   ],
   "source": [
    "X_train, y_train = get_train_batch(df3_class0, df3_class1, 2990, 4130)\n",
    "\n",
    "y_pred3 = ANN(X_train, y_train, X_test, y_test, 'binary_crossentropy', -1)"
   ]
  },
  {
   "cell_type": "code",
   "execution_count": 103,
   "metadata": {},
   "outputs": [
    {
     "data": {
      "text/plain": [
       "1407"
      ]
     },
     "execution_count": 103,
     "metadata": {},
     "output_type": "execute_result"
    }
   ],
   "source": [
    "len(y_pred1)\n"
   ]
  },
  {
   "cell_type": "code",
   "execution_count": 104,
   "metadata": {},
   "outputs": [],
   "source": [
    "y_pred_final = y_pred1.copy()\n",
    "for i in range(len(y_pred1)):\n",
    "    n_ones = y_pred1[i] + y_pred2[i] + y_pred3[i]\n",
    "    if n_ones>1:\n",
    "        y_pred_final[i] = 1\n",
    "    else:\n",
    "        y_pred_final[i] = 0"
   ]
  },
  {
   "cell_type": "code",
   "execution_count": 105,
   "metadata": {},
   "outputs": [
    {
     "name": "stdout",
     "output_type": "stream",
     "text": [
      "              precision    recall  f1-score   support\n",
      "\n",
      "           0       0.90      0.70      0.79      1033\n",
      "           1       0.49      0.79      0.60       374\n",
      "\n",
      "    accuracy                           0.72      1407\n",
      "   macro avg       0.69      0.74      0.69      1407\n",
      "weighted avg       0.79      0.72      0.74      1407\n",
      "\n"
     ]
    }
   ],
   "source": [
    "cl_rep = classification_report(y_test, y_pred_final)\n",
    "print(cl_rep)"
   ]
  }
 ],
 "metadata": {
  "kernelspec": {
   "display_name": "Python 3",
   "language": "python",
   "name": "python3"
  },
  "language_info": {
   "codemirror_mode": {
    "name": "ipython",
    "version": 3
   },
   "file_extension": ".py",
   "mimetype": "text/x-python",
   "name": "python",
   "nbconvert_exporter": "python",
   "pygments_lexer": "ipython3",
   "version": "3.7.4"
  }
 },
 "nbformat": 4,
 "nbformat_minor": 2
}
